{
 "cells": [
  {
   "cell_type": "markdown",
   "metadata": {},
   "source": [
    "This is a demonstration of a 2-D CNN used for Image Classification"
   ]
  },
  {
   "cell_type": "code",
   "execution_count": null,
   "metadata": {},
   "outputs": [
    {
     "name": "stdout",
     "output_type": "stream",
     "text": [
      "Using cuda\n"
     ]
    }
   ],
   "source": [
    "import torch\n",
    "\n",
    "from torch import nn\n",
    "from torch.utils.data import random_split, DataLoader\n",
    "from torchvision.datasets import MNIST\n",
    "from torchvision.transforms import ToTensor\n",
    "\n",
    "\n",
    "import math\n",
    "import matplotlib.pyplot as plt\n",
    "\n",
    "gpu_available = torch.cuda.is_available()\n",
    "print(f'{gpu_available=}')"
   ]
  },
  {
   "cell_type": "code",
   "execution_count": 2,
   "metadata": {},
   "outputs": [],
   "source": [
    "import sys\n",
    "sys.path.append('../../')\n",
    "\n",
    "from CustomDL.utils import train_model, test_model"
   ]
  },
  {
   "cell_type": "markdown",
   "metadata": {},
   "source": [
    "# Load MNIST dataset"
   ]
  },
  {
   "cell_type": "code",
   "execution_count": 3,
   "metadata": {},
   "outputs": [
    {
     "name": "stdout",
     "output_type": "stream",
     "text": [
      "torch.Size([60000, 28, 28])\n"
     ]
    }
   ],
   "source": [
    "digits_dataset = MNIST(\n",
    "    root='./data/MNIST', # the folder where data eixsts/is stored,\n",
    "    download=True,\n",
    "    transform=ToTensor() # The image are PIL format, this transform to Tensor objects\n",
    ")\n",
    "print(digits_dataset.data.shape)\n",
    "\n",
    "train_data, test_data = random_split(digits_dataset, [.8, .2])"
   ]
  },
  {
   "cell_type": "code",
   "execution_count": 4,
   "metadata": {},
   "outputs": [
    {
     "data": {
      "image/png": "[encoded data removed]",
      "text/plain": [
       "<Figure size 1000x600 with 10 Axes>"
      ]
     },
     "metadata": {},
     "output_type": "display_data"
    }
   ],
   "source": [
    "fig = plt.figure(figsize=(10, 6))\n",
    "fig.tight_layout()\n",
    "fig.suptitle('Illsutrative Images for Each Digit')\n",
    "\n",
    "labels = digits_dataset.targets\n",
    "num_lab = torch.tensor(labels.unique().shape[0])\n",
    "rows = int(torch.sqrt(num_lab))\n",
    "cols = int(torch.ceil(num_lab / rows))\n",
    "for tens_number in labels.unique():\n",
    "  number = tens_number.item()\n",
    "  idx = torch.argmax((labels == number).int())\n",
    "  img = digits_dataset[idx][0].squeeze()\n",
    "\n",
    "  ax = fig.add_subplot(rows, cols, number + 1)\n",
    "  ax.axis('off')\n",
    "  ax.imshow(img, cmap='gray')"
   ]
  },
  {
   "cell_type": "markdown",
   "metadata": {},
   "source": [
    "# Convolutional Network Definition"
   ]
  },
  {
   "cell_type": "code",
   "execution_count": 5,
   "metadata": {},
   "outputs": [],
   "source": [
    "class ConvolutionLayer(nn.Module):\n",
    "    def __init__(self,\n",
    "        in_chan: int,\n",
    "        out_chan: int,\n",
    "        activation_fn: nn.Module,\n",
    "        kern_size: int = 3,\n",
    "        pool_kern: int = 2\n",
    "    ):\n",
    "        super().__init__()\n",
    "\n",
    "        self.layer = nn.Sequential(\n",
    "            nn.Conv2d(\n",
    "                in_channels=in_chan,\n",
    "                out_channels=out_chan,\n",
    "                kernel_size=kern_size,\n",
    "                padding='same'\n",
    "            ),\n",
    "            activation_fn,\n",
    "            nn.MaxPool2d(pool_kern)\n",
    "        )\n",
    "\n",
    "    def forward(self, in_data):\n",
    "        return self.layer(in_data)"
   ]
  },
  {
   "cell_type": "markdown",
   "metadata": {},
   "source": [
    "Assuming that every convolution operation preserves the shape of image, every convolutional layer results in a dimension reduction of `pool_kern_size` in the width and height.\\\n",
    "Hence, for a convolutional network with $n$ convolutional layers using pooling kernel sizes given by the set $\\{k_1, k_2,\\ldots,k_n\\}$, the width and height of the image after feeding forward through all convolutional layer is:\n",
    "$$\n",
    "\\text{width}' = \\frac{\\text{width}}{\\prod_{i=1}^{i=n}k_i}\n",
    "\\qquad\n",
    "\\text{height}' = \\frac{\\text{height}}{\\prod_{i=1}^{i=n}k_i}\n",
    "$$\n",
    "\n",
    "From this, we know the flattened input dimenion called in_features to the final Fully Connected Layer of the Convolutional Network to be:\n",
    "$$\n",
    "\\text{in\\_features} = \n",
    "\\frac{\\text{out\\_channels} \\cdot \\text{width} \\cdot \\text{height}}{\\left(\\prod_{i=1}^{i=n}k_i\\right)^2}\n",
    "$$\n",
    "In the case that all pooling kernel sizes are equal to $k$, we obtain a simpler form:\n",
    "$$\n",
    "\\text{in\\_features} = \n",
    "\\frac{\\text{out\\_channels} \\cdot \\text{width} \\cdot \\text{height}}{k ^ {2n}}\n",
    "$$"
   ]
  },
  {
   "cell_type": "code",
   "execution_count": null,
   "metadata": {},
   "outputs": [],
   "source": [
    "# Here we define the network functionally. The network will contain two ConvolutionLayer with\n",
    "# pool_kern_size of 2\n",
    "\n",
    "in_features = 4 * 28 * 28 // (2 ** (2 * 2))\n",
    "conv_net = nn.Sequential(\n",
    "    ConvolutionLayer(1, 32, nn.ReLU()),\n",
    "    ConvolutionLayer(32, 4, nn.ReLU()),\n",
    "\n",
    "    nn.Flatten(),\n",
    "    nn.Linear(in_features, 100), nn.ReLU(),\n",
    "    nn.Linear(100, 100), nn.ReLU(),\n",
    "    nn.Linear(100, 10)\n",
    ")\n",
    "if gpu_available:\n",
    "    conv_net = conv_net.cuda()"
   ]
  },
  {
   "cell_type": "markdown",
   "metadata": {},
   "source": [
    "# Training and Evaluation"
   ]
  },
  {
   "cell_type": "code",
   "execution_count": null,
   "metadata": {},
   "outputs": [],
   "source": [
    "def run_epochs(\n",
    "    epochs: int,\n",
    "    model: nn.Module,\n",
    "    train_loader: tuple[DataLoader, DataLoader],\n",
    "    test_loader: tuple[DataLoader, DataLoader],\n",
    "    loss_fn: nn.Module,\n",
    "    optimizer: nn.Module\n",
    "):\n",
    "    num_dig = int(math.log10(epochs)) + 1\n",
    "    update_rate = 1 if epochs <= 20 else 10\n",
    "\n",
    "    for epoch in range(epochs):\n",
    "        if not epoch % update_rate:\n",
    "            print(f\"Epoch {epoch + 1:>{num_dig}}/{epochs}\", end=' || ')\n",
    "        train_model(model, train_loader, loss_fn, optimizer,\n",
    "                    use_gpu=gpu_available)\n",
    "        loss, acc = test_model(model, test_loader, loss_fn, True,\n",
    "                               use_gpu=gpu_available)\n",
    "        if not epoch % update_rate:\n",
    "            print(f\"Average Loss: {loss:.6f} | {acc * 100:.4f}%\")"
   ]
  },
  {
   "cell_type": "code",
   "execution_count": 11,
   "metadata": {},
   "outputs": [],
   "source": [
    "batch_size = 64\n",
    "learning_rate = 0.002\n",
    "\n",
    "trainloader = DataLoader(train_data, batch_size, shuffle=True)\n",
    "testloader = DataLoader(test_data, shuffle=True)\n",
    "\n",
    "cross_entrop = nn.CrossEntropyLoss()\n",
    "optimizer = torch.optim.SGD(conv_net.parameters(), learning_rate)"
   ]
  },
  {
   "cell_type": "code",
   "execution_count": 12,
   "metadata": {},
   "outputs": [
    {
     "name": "stdout",
     "output_type": "stream",
     "text": [
      "Epoch  1/10 || Average Loss: 2.301178 | 10.1750%\n",
      "Epoch  2/10 || Average Loss: 2.292075 | 14.4917%\n",
      "Epoch  3/10 || Average Loss: 2.268074 | 34.9333%\n",
      "Epoch  4/10 || Average Loss: 2.173733 | 42.1250%\n",
      "Epoch  5/10 || Average Loss: 1.440638 | 65.0250%\n",
      "Epoch  6/10 || Average Loss: 0.700319 | 79.5167%\n",
      "Epoch  7/10 || Average Loss: 0.500197 | 85.7417%\n",
      "Epoch  8/10 || Average Loss: 0.409876 | 87.9417%\n",
      "Epoch  9/10 || Average Loss: 0.364444 | 88.9917%\n",
      "Epoch 10/10 || Average Loss: 0.337547 | 89.9000%\n"
     ]
    }
   ],
   "source": [
    "epochs = 10\n",
    "run_epochs(\n",
    "    10, conv_net,\n",
    "    trainloader, testloader,\n",
    "    cross_entrop,\n",
    "    optimizer\n",
    ")"
   ]
  },
  {
   "cell_type": "markdown",
   "metadata": {},
   "source": [
    "# Interpreting the Weights"
   ]
  },
  {
   "cell_type": "code",
   "execution_count": null,
   "metadata": {},
   "outputs": [],
   "source": [
    "conv_net.eval()\n",
    "layers = list(conv_net.children())"
   ]
  },
  {
   "cell_type": "markdown",
   "metadata": {},
   "source": [
    "We observe the information extracted in each filters after the two convolutional layers."
   ]
  },
  {
   "cell_type": "code",
   "execution_count": null,
   "metadata": {},
   "outputs": [],
   "source": [
    "number = 5\n",
    "indices = (test_data.targets == number).argwhere()\n",
    "\n",
    "sample_image = test_data[indices[0].item()][0]\n",
    "sample_image.shape\n",
    "convolved_input = layers[1](layers[0](sample_image))\n",
    "\n",
    "\n",
    "cmap = 'gray_r'\n",
    "layout = [\n",
    "  ['Image', 0, 1],\n",
    "  ['Image', 2, 3]\n",
    "]\n",
    "\n",
    "fig = plt.figure(figsize=(10, 5))\n",
    "axes = fig.subplot_mosaic(layout, width_ratios=(2, 1, 1))\n",
    "\n",
    "axes['Image'].imshow(sample_image[0, :, :], cmap=cmap)\n",
    "axes['Image'].set_title('Original Image')\n",
    "axes['Image'].set_xticks([])\n",
    "axes['Image'].set_yticks([])\n",
    "for i in range(4):\n",
    "  axes[i].set_title(f'Filter {i}')\n",
    "  axes[i].imshow(convolved_input[i, :, :], cmap=cmap)\n",
    "  axes[i].set_xticks([])\n",
    "  axes[i].set_yticks([])"
   ]
  },
  {
   "cell_type": "markdown",
   "metadata": {},
   "source": [
    "# Inference on unseen data"
   ]
  },
  {
   "cell_type": "markdown",
   "metadata": {},
   "source": [
    "We already observed how well the model can infer unseen images from the test set.\\\n",
    "One thing we notice is that these images are all 28x28 images. So any new images of different size\n",
    "can not be predicted by the model.\n",
    "\n",
    "To solve this issue, we need to change the dimension of the image in some way without losing too much information. For an image with a smaller size than the original 28x28, we can simply add black pixels to the image, which does not add in any unnecessary information to the original image. However, images of larger sizes requires a more contrived method.\\\n",
    "Here, we try the following method of compression the image:\n",
    "1. Blurring images using Gaussian Blur: This is essentially a 2d Convolution on the image where we use a fixed Gaussian kernel instead of a learned kernel. This acts as a low-pass filter where high/rapid changes in colour gets smoothed out.\n",
    "2. Downsampling the image respectively in the row and width.\n",
    "\n",
    "Furthermore, to easily determine the kernel size for blurring to compress into 28x28 image. We will first 'square' the image by zero-padding the suitable dimension.\n",
    "\n",
    "Note that instead of using a Gaussian kernel for the convolution, we can use a different kernel like a Box kernel, Hanning kernel, etc."
   ]
  },
  {
   "cell_type": "code",
   "execution_count": 2,
   "metadata": {},
   "outputs": [],
   "source": [
    "import torchvision\n",
    "\n",
    "from torchvision.transforms import GaussianBlur"
   ]
  },
  {
   "cell_type": "code",
   "execution_count": 111,
   "metadata": {},
   "outputs": [],
   "source": [
    "def compress_image(\n",
    "    img: torch.Tensor,\n",
    "    desired_shape: int\n",
    "):\n",
    "    if img.shape[1] != img.shape[2]:\n",
    "        missing_dim = abs(img.shape[1] - img.shape[2])\n",
    "        if img.shape[1] < img.shape[2]:\n",
    "            new_img = nn.functional.pad(img, (0, 0, 0, missing_dim))\n",
    "        else:\n",
    "            new_img = nn.functional.pad(img, (0, missing_dim, 0, 0))\n",
    "\n",
    "    if img.shape[1] == desired_shape:\n",
    "        return new_img\n",
    "\n",
    "    # Gaussian Blur, the kernel size of 1/4 the image size is taken\n",
    "    # Note that kernel size must be odd\n",
    "    kern_size = new_img.shape[1] // 4\n",
    "    if kern_size % 2 == 0: kern_size += 1\n",
    "    new_img = GaussianBlur(kern_size, 5)(new_img)\n",
    "\n",
    "    # downsample image to best match the desired_shape\n",
    "    # this however does not ensure a perfect match, so we need to\n",
    "    # crop out the extra rows and columns afterwards.\n",
    "    down_sr = new_img.shape[1] // desired_shape\n",
    "    new_img = new_img[:, ::down_sr, ::down_sr]\n",
    "\n",
    "    if new_img.shape != (1, 28, 28):\n",
    "        extra_dims = new_img.shape[1] - 28\n",
    "        new_img = new_img[:, :-extra_dims, :-extra_dims]    \n",
    "    return new_img"
   ]
  },
  {
   "cell_type": "code",
   "execution_count": 120,
   "metadata": {},
   "outputs": [
    {
     "data": {
      "image/png": "[encoded data removed]",
      "text/plain": [
       "<Figure size 900x400 with 2 Axes>"
      ]
     },
     "metadata": {},
     "output_type": "display_data"
    }
   ],
   "source": [
    "img = torchvision.io.read_image('./data/test_img/num5.png')\n",
    "img = (img[0:1] - 255) / 255\n",
    "\n",
    "lowpass_filtered_image = compress_image(img, 28)\n",
    "\n",
    "\n",
    "fig = plt.figure(figsize=(9, 4))\n",
    "axes = fig.subplots(1, 2)\n",
    "axes[0].set_title(f'Original Image {tuple(img.shape)}')\n",
    "axes[0].imshow(img[0], cmap='gray_r')\n",
    "axes[0].set_xticks([])\n",
    "axes[0].set_yticks([])\n",
    "\n",
    "axes[1].set_title(f'Compressed Image {tuple(lowpass_filtered_image.shape)}')\n",
    "axes[1].imshow(lowpass_filtered_image[0], cmap='gray_r')\n",
    "axes[1].set_xticks([]);\n",
    "axes[1].set_yticks([]);"
   ]
  },
  {
   "cell_type": "code",
   "execution_count": null,
   "metadata": {},
   "outputs": [],
   "source": [
    "# Reusing the layers extracted from the section above, remember to run those cells!\n",
    "convolved_input = layers[1](layers[0](lowpass_filtered_image))\n",
    "\n",
    "\n",
    "cmap = 'gray_r'\n",
    "layout = [\n",
    "  ['Image', 0, 1],\n",
    "  ['Image', 2, 3]\n",
    "]\n",
    "\n",
    "fig = plt.figure(figsize=(10, 5))\n",
    "axes = fig.subplot_mosaic(layout, width_ratios=(2, 1, 1))\n",
    "\n",
    "axes['Image'].imshow(sample_image[0, :, :], cmap=cmap)\n",
    "axes['Image'].set_title('Original Image')\n",
    "axes['Image'].set_xticks([])\n",
    "axes['Image'].set_yticks([])\n",
    "for i in range(4):\n",
    "  axes[i].set_title(f'Filter {i}')\n",
    "  axes[i].imshow(convolved_input[i, :, :], cmap=cmap)\n",
    "  axes[i].set_xticks([])\n",
    "  axes[i].set_yticks([])"
   ]
  },
  {
   "cell_type": "code",
   "execution_count": null,
   "metadata": {},
   "outputs": [],
   "source": [
    "predict_vals = conv_net(lowpass_filtered_image)\n",
    "predict_probs = nn.Softmax()(predict_vals)\n",
    "prediction = predict_probs.argmax().item()\n",
    "\n",
    "print(f\"\"\"Output Values:\n",
    "    {predict_vals}\n",
    "Predicted Probabilities:\n",
    "    {predict_probs}\n",
    "Prediction: {prediction}\"\"\")"
   ]
  },
  {
   "cell_type": "markdown",
   "metadata": {},
   "source": [
    "# Saving Model"
   ]
  },
  {
   "cell_type": "code",
   "execution_count": 13,
   "metadata": {},
   "outputs": [],
   "source": [
    "model_dict = {\n",
    "    'model_dict': conv_net.state_dict(),\n",
    "    'optimizer_dict': optimizer.state_dict(),\n",
    "    'epochs': epochs\n",
    "}\n",
    "torch.save(\n",
    "    model_dict,\n",
    "    './output/cnn_demo_3Layer_100Perc.pth'\n",
    ")"
   ]
  }
 ],
 "metadata": {
  "kernelspec": {
   "display_name": ".DL",
   "language": "python",
   "name": "python3"
  },
  "language_info": {
   "codemirror_mode": {
    "name": "ipython",
    "version": 3
   },
   "file_extension": ".py",
   "mimetype": "text/x-python",
   "name": "python",
   "nbconvert_exporter": "python",
   "pygments_lexer": "ipython3",
   "version": "3.13.2"
  }
 },
 "nbformat": 4,
 "nbformat_minor": 2
}
