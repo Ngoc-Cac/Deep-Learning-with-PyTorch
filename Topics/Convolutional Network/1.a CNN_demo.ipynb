{
 "cells": [
  {
   "cell_type": "markdown",
   "metadata": {},
   "source": [
    "This is a demonstration of a 2-D CNN used for Image Classification"
   ]
  },
  {
   "cell_type": "code",
   "execution_count": null,
   "metadata": {},
   "outputs": [
    {
     "name": "stdout",
     "output_type": "stream",
     "text": [
      "Using cuda\n"
     ]
    }
   ],
   "source": [
    "import torch\n",
    "\n",
    "from torch import nn\n",
    "from torch.utils.data import random_split, DataLoader\n",
    "from torchvision.datasets import MNIST\n",
    "from torchvision.transforms import ToTensor\n",
    "\n",
    "\n",
    "import math\n",
    "import matplotlib.pyplot as plt\n",
    "\n",
    "gpu_available = torch.cuda.is_available()\n",
    "print(f'{gpu_available=}')"
   ]
  },
  {
   "cell_type": "code",
   "execution_count": 2,
   "metadata": {},
   "outputs": [],
   "source": [
    "import sys\n",
    "sys.path.append('../../')\n",
    "\n",
    "from CustomDL.utils import train_model, test_model"
   ]
  },
  {
   "cell_type": "markdown",
   "metadata": {},
   "source": [
    "# Load MNIST dataset"
   ]
  },
  {
   "cell_type": "code",
   "execution_count": 3,
   "metadata": {},
   "outputs": [
    {
     "name": "stdout",
     "output_type": "stream",
     "text": [
      "torch.Size([60000, 28, 28])\n"
     ]
    }
   ],
   "source": [
    "digits_dataset = MNIST(\n",
    "    root='./data/MNIST', # the folder where data eixsts/is stored,\n",
    "    download=True,\n",
    "    transform=ToTensor() # The image are PIL format, this transform to Tensor objects\n",
    ")\n",
    "print(digits_dataset.data.shape)\n",
    "\n",
    "train_data, test_data = random_split(digits_dataset, [.8, .2])"
   ]
  },
  {
   "cell_type": "code",
   "execution_count": 4,
   "metadata": {},
   "outputs": [
    {
     "data": {
      "image/png": "[encoded data removed]",
      "text/plain": [
       "<Figure size 1000x600 with 10 Axes>"
      ]
     },
     "metadata": {},
     "output_type": "display_data"
    }
   ],
   "source": [
    "fig = plt.figure(figsize=(10, 6))\n",
    "fig.tight_layout()\n",
    "fig.suptitle('Illsutrative Images for Each Digit')\n",
    "\n",
    "labels = digits_dataset.targets\n",
    "num_lab = torch.tensor(labels.unique().shape[0])\n",
    "rows = int(torch.sqrt(num_lab))\n",
    "cols = int(torch.ceil(num_lab / rows))\n",
    "for tens_number in labels.unique():\n",
    "  number = tens_number.item()\n",
    "  idx = torch.argmax((labels == number).int())\n",
    "  img = digits_dataset[idx][0].squeeze()\n",
    "\n",
    "  ax = fig.add_subplot(rows, cols, number + 1)\n",
    "  ax.axis('off')\n",
    "  ax.imshow(img, cmap='gray')"
   ]
  },
  {
   "cell_type": "markdown",
   "metadata": {},
   "source": [
    "# Convolutional Network Definition"
   ]
  },
  {
   "cell_type": "code",
   "execution_count": 5,
   "metadata": {},
   "outputs": [],
   "source": [
    "class ConvolutionLayer(nn.Module):\n",
    "    def __init__(self,\n",
    "        in_chan: int,\n",
    "        out_chan: int,\n",
    "        activation_fn: nn.Module,\n",
    "        kern_size: int = 3,\n",
    "        pool_kern: int = 2\n",
    "    ):\n",
    "        super().__init__()\n",
    "\n",
    "        self.layer = nn.Sequential(\n",
    "            nn.Conv2d(\n",
    "                in_channels=in_chan,\n",
    "                out_channels=out_chan,\n",
    "                kernel_size=kern_size,\n",
    "                padding='same'\n",
    "            ),\n",
    "            activation_fn,\n",
    "            nn.MaxPool2d(pool_kern)\n",
    "        )\n",
    "\n",
    "    def forward(self, in_data):\n",
    "        return self.layer(in_data)"
   ]
  },
  {
   "cell_type": "markdown",
   "metadata": {},
   "source": [
    "Assuming that every convolution operation preserves the shape of image, every convolutional layer results in a dimension reduction of `pool_kern_size` in the width and height.\\\n",
    "Hence, for a convolutional network with $n$ convolutional layers using pooling kernel sizes given by the set $\\{k_1, k_2,\\ldots,k_n\\}$, the width and height of the image after feeding forward through all convolutional layer is:\n",
    "$$\n",
    "\\text{width}' = \\frac{\\text{width}}{\\prod_{i=1}^{i=n}k_i}\n",
    "\\qquad\n",
    "\\text{height}' = \\frac{\\text{height}}{\\prod_{i=1}^{i=n}k_i}\n",
    "$$\n",
    "\n",
    "From this, we know the flattened input dimenion called in_features to the final Fully Connected Layer of the Convolutional Network to be:\n",
    "$$\n",
    "\\text{in\\_features} = \n",
    "\\frac{\\text{out\\_channels} \\cdot \\text{width} \\cdot \\text{height}}{\\left(\\prod_{i=1}^{i=n}k_i\\right)^2}\n",
    "$$\n",
    "In the case that all pooling kernel sizes are equal to $k$, we obtain a simpler form:\n",
    "$$\n",
    "\\text{in\\_features} = \n",
    "\\frac{\\text{out\\_channels} \\cdot \\text{width} \\cdot \\text{height}}{k ^ {2n}}\n",
    "$$"
   ]
  },
  {
   "cell_type": "code",
   "execution_count": null,
   "metadata": {},
   "outputs": [],
   "source": [
    "# Here we define the network functionally. The network will contain two ConvolutionLayer with\n",
    "# pool_kern_size of 2\n",
    "\n",
    "in_features = 4 * 28 * 28 // (2 ** (2 * 2))\n",
    "conv_net = nn.Sequential(\n",
    "    ConvolutionLayer(1, 32, nn.ReLU()),\n",
    "    ConvolutionLayer(32, 4, nn.ReLU()),\n",
    "\n",
    "    nn.Flatten(),\n",
    "    nn.Linear(in_features, 100), nn.ReLU(),\n",
    "    nn.Linear(100, 100), nn.ReLU(),\n",
    "    nn.Linear(100, 10)\n",
    ")\n",
    "if gpu_available:\n",
    "    conv_net = conv_net.cuda()"
   ]
  },
  {
   "cell_type": "markdown",
   "metadata": {},
   "source": [
    "# Training and Evaluation"
   ]
  },
  {
   "cell_type": "code",
   "execution_count": null,
   "metadata": {},
   "outputs": [],
   "source": [
    "def run_epochs(\n",
    "    epochs: int,\n",
    "    model: nn.Module,\n",
    "    train_loader: tuple[DataLoader, DataLoader],\n",
    "    test_loader: tuple[DataLoader, DataLoader],\n",
    "    loss_fn: nn.Module,\n",
    "    optimizer: nn.Module\n",
    "):\n",
    "    num_dig = int(math.log10(epochs)) + 1\n",
    "    update_rate = 1 if epochs <= 20 else 10\n",
    "\n",
    "    for epoch in range(epochs):\n",
    "        if not epoch % update_rate:\n",
    "            print(f\"Epoch {epoch + 1:>{num_dig}}/{epochs}\", end=' || ')\n",
    "        train_model(model, train_loader, loss_fn, optimizer,\n",
    "                    use_gpu=gpu_available)\n",
    "        loss, acc = test_model(model, test_loader, loss_fn, True,\n",
    "                               use_gpu=gpu_available)\n",
    "        if not epoch % update_rate:\n",
    "            print(f\"Average Loss: {loss:.6f} | {acc * 100:.4f}%\")"
   ]
  },
  {
   "cell_type": "code",
   "execution_count": 11,
   "metadata": {},
   "outputs": [],
   "source": [
    "batch_size = 64\n",
    "learning_rate = 0.002\n",
    "\n",
    "trainloader = DataLoader(train_data, batch_size, shuffle=True)\n",
    "testloader = DataLoader(test_data, shuffle=True)\n",
    "\n",
    "cross_entrop = nn.CrossEntropyLoss()\n",
    "optimizer = torch.optim.SGD(conv_net.parameters(), learning_rate)"
   ]
  },
  {
   "cell_type": "code",
   "execution_count": 12,
   "metadata": {},
   "outputs": [
    {
     "name": "stdout",
     "output_type": "stream",
     "text": [
      "Epoch  1/10 || Average Loss: 2.301178 | 10.1750%\n",
      "Epoch  2/10 || Average Loss: 2.292075 | 14.4917%\n",
      "Epoch  3/10 || Average Loss: 2.268074 | 34.9333%\n",
      "Epoch  4/10 || Average Loss: 2.173733 | 42.1250%\n",
      "Epoch  5/10 || Average Loss: 1.440638 | 65.0250%\n",
      "Epoch  6/10 || Average Loss: 0.700319 | 79.5167%\n",
      "Epoch  7/10 || Average Loss: 0.500197 | 85.7417%\n",
      "Epoch  8/10 || Average Loss: 0.409876 | 87.9417%\n",
      "Epoch  9/10 || Average Loss: 0.364444 | 88.9917%\n",
      "Epoch 10/10 || Average Loss: 0.337547 | 89.9000%\n"
     ]
    }
   ],
   "source": [
    "epochs = 10\n",
    "run_epochs(\n",
    "    10, conv_net,\n",
    "    trainloader, testloader,\n",
    "    cross_entrop,\n",
    "    optimizer\n",
    ")"
   ]
  },
  {
   "cell_type": "markdown",
   "metadata": {},
   "source": [
    "# Saving Model"
   ]
  },
  {
   "cell_type": "code",
   "execution_count": 13,
   "metadata": {},
   "outputs": [],
   "source": [
    "model_dict = {\n",
    "    'model_dict': conv_net.state_dict(),\n",
    "    'optimizer_dict': optimizer.state_dict(),\n",
    "    'epochs': epochs\n",
    "}\n",
    "torch.save(\n",
    "    model_dict,\n",
    "    './output/cnn_demo_3Layer_100Perc.pth'\n",
    ")"
   ]
  }
 ],
 "metadata": {
  "kernelspec": {
   "display_name": ".DL",
   "language": "python",
   "name": "python3"
  },
  "language_info": {
   "codemirror_mode": {
    "name": "ipython",
    "version": 3
   },
   "file_extension": ".py",
   "mimetype": "text/x-python",
   "name": "python",
   "nbconvert_exporter": "python",
   "pygments_lexer": "ipython3",
   "version": "3.13.2"
  }
 },
 "nbformat": 4,
 "nbformat_minor": 2
}
