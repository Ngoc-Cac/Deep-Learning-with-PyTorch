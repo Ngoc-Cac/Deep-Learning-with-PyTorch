{
 "cells": [
  {
   "cell_type": "markdown",
   "metadata": {},
   "source": [
    "This is a demonstration of a 2-D CNN used for Image Classification"
   ]
  },
  {
   "cell_type": "code",
   "execution_count": 1,
   "metadata": {},
   "outputs": [],
   "source": [
    "import torch\n",
    "\n",
    "from torch import nn\n",
    "from torchvision.datasets import MNIST\n",
    "from torchvision.transforms import ToTensor\n",
    "\n",
    "\n",
    "import matplotlib.pyplot as plt"
   ]
  },
  {
   "cell_type": "markdown",
   "metadata": {},
   "source": [
    "# Load MNIST dataset"
   ]
  },
  {
   "cell_type": "code",
   "execution_count": 2,
   "metadata": {},
   "outputs": [
    {
     "name": "stdout",
     "output_type": "stream",
     "text": [
      "torch.Size([60000, 28, 28])\n"
     ]
    }
   ],
   "source": [
    "digits_dataset = MNIST(\n",
    "    root='../../data',\n",
    "    download=True,\n",
    "    transform=ToTensor()\n",
    ")\n",
    "print(digits_dataset.data.shape)"
   ]
  },
  {
   "cell_type": "markdown",
   "metadata": {},
   "source": [
    "# Defining previous architecture and loading pre-trained weights"
   ]
  },
  {
   "cell_type": "code",
   "execution_count": 3,
   "metadata": {},
   "outputs": [],
   "source": [
    "class ConvolutionLayer(nn.Module):\n",
    "    def __init__(self,\n",
    "        in_chan: int,\n",
    "        out_chan: int,\n",
    "        activation_fn: nn.Module,\n",
    "        kern_size: int = 3,\n",
    "        pool_kern: int = 2\n",
    "    ):\n",
    "        super().__init__()\n",
    "\n",
    "        self.layer = nn.Sequential(\n",
    "            nn.Conv2d(\n",
    "                in_channels=in_chan,\n",
    "                out_channels=out_chan,\n",
    "                kernel_size=kern_size,\n",
    "                padding='same'\n",
    "            ),\n",
    "            activation_fn,\n",
    "            nn.MaxPool2d(pool_kern)\n",
    "        )\n",
    "\n",
    "    def forward(self, in_data):\n",
    "        return self.layer(in_data)"
   ]
  },
  {
   "cell_type": "code",
   "execution_count": 4,
   "metadata": {},
   "outputs": [],
   "source": [
    "final_channels = 9\n",
    "in_features = final_channels * 28 * 28 // (2 ** (2 * 2))\n",
    "\n",
    "conv_net_50p = nn.Sequential(\n",
    "    ConvolutionLayer(1, 4, nn.ReLU()),\n",
    "    ConvolutionLayer(4, final_channels, nn.ReLU()),\n",
    "\n",
    "    nn.Flatten(),\n",
    "    nn.Linear(in_features, 50), nn.ReLU(),\n",
    "    nn.Linear(50, 50), nn.ReLU(),\n",
    "    nn.Linear(50, 10)\n",
    ")\n",
    "conv_net_100p = nn.Sequential(\n",
    "    ConvolutionLayer(1, 4, nn.ReLU()),\n",
    "    ConvolutionLayer(4, final_channels, nn.ReLU()),\n",
    "\n",
    "    nn.Flatten(),\n",
    "    nn.Linear(in_features, 100), nn.ReLU(),\n",
    "    nn.Linear(100, 100), nn.ReLU(),\n",
    "    nn.Linear(100, 10)\n",
    ")"
   ]
  },
  {
   "cell_type": "code",
   "execution_count": 5,
   "metadata": {},
   "outputs": [],
   "source": [
    "checkpoints = [\n",
    "    torch.load('./output/cnn_demo_50Perc.pth', map_location='cpu'),\n",
    "    torch.load('./output/cnn_demo_100Perc.pth', map_location='cpu')\n",
    "]\n",
    "\n",
    "conv_net_50p.load_state_dict(checkpoints[0]['model_dict'])\n",
    "conv_net_100p.load_state_dict(checkpoints[1]['model_dict'])\n",
    "\n",
    "conv_net_50p.eval()\n",
    "conv_net_100p.eval();"
   ]
  },
  {
   "cell_type": "markdown",
   "metadata": {},
   "source": [
    "# Interpreting the Weights"
   ]
  },
  {
   "cell_type": "code",
   "execution_count": 11,
   "metadata": {},
   "outputs": [],
   "source": [
    "def draw_filters(sample_image, convolved_filters, fig=None):\n",
    "    cmap = 'gray_r'\n",
    "    layout = [\n",
    "        ['Image', 0, 1, 2],\n",
    "        ['Image', 3, 4, 5],\n",
    "        ['Image', 6, 7, 8],\n",
    "    ]\n",
    "\n",
    "    if fig is None:\n",
    "        fig = plt.figure(figsize=(10, 6))\n",
    "    axes = fig.subplot_mosaic(layout, width_ratios=(3, 1, 1, 1))\n",
    "\n",
    "    axes['Image'].imshow(sample_image.permute((1, 2, 0)), cmap=cmap)\n",
    "    axes['Image'].set_title('Original Image')\n",
    "    axes['Image'].set_xticks([])\n",
    "    axes['Image'].set_yticks([])\n",
    "    for i in range(9):\n",
    "        axes[i].set_title(f'Filter {i}')\n",
    "        axes[i].imshow(convolved_filters[i], cmap=cmap)\n",
    "        axes[i].set_xticks([])\n",
    "        axes[i].set_yticks([])"
   ]
  },
  {
   "cell_type": "markdown",
   "metadata": {},
   "source": [
    "## Kernels within the first layer"
   ]
  },
  {
   "cell_type": "code",
   "execution_count": 20,
   "metadata": {},
   "outputs": [
    {
     "data": {
      "image/png": "[encoded data removed]",
      "text/plain": [
       "<Figure size 500x500 with 4 Axes>"
      ]
     },
     "metadata": {},
     "output_type": "display_data"
    }
   ],
   "source": [
    "kernels = checkpoints[0]['model_dict']['0.layer.0.weight']\n",
    "kernels = kernels.permute((0, 2, 3, 1))\n",
    "\n",
    "fig = plt.figure(figsize=(5, 5))\n",
    "axes = fig.subplot_mosaic([[0, 1], [2, 3]])\n",
    "\n",
    "for i in range(4):\n",
    "    axes[i].imshow(kernels[i], cmap='gray_r')\n",
    "    axes[i].set_xticks([])\n",
    "    axes[i].set_yticks([])\n",
    "    axes[i].set_title(f'Filter {i}')"
   ]
  },
  {
   "cell_type": "code",
   "execution_count": 21,
   "metadata": {},
   "outputs": [
    {
     "data": {
      "image/png": "[encoded data removed]",
      "text/plain": [
       "<Figure size 500x500 with 4 Axes>"
      ]
     },
     "metadata": {},
     "output_type": "display_data"
    }
   ],
   "source": [
    "kernels = checkpoints[1]['model_dict']['0.layer.0.weight']\n",
    "kernels = kernels.permute((0, 2, 3, 1))\n",
    "\n",
    "fig = plt.figure(figsize=(5, 5))\n",
    "axes = fig.subplot_mosaic([[0, 1], [2, 3]])\n",
    "\n",
    "for i in range(4):\n",
    "    axes[i].imshow(kernels[i], cmap='gray_r')\n",
    "    axes[i].set_xticks([])\n",
    "    axes[i].set_yticks([])\n",
    "    axes[i].set_title(f'Filter {i}')"
   ]
  },
  {
   "cell_type": "markdown",
   "metadata": {},
   "source": [
    "## Images after convolutions"
   ]
  },
  {
   "cell_type": "markdown",
   "metadata": {},
   "source": [
    "We observe the information extracted in each filters after the two convolutional layers.\\\n",
    "We choose a sample image first."
   ]
  },
  {
   "cell_type": "code",
   "execution_count": 8,
   "metadata": {},
   "outputs": [
    {
     "data": {
      "text/plain": [
       "torch.Size([1, 28, 28])"
      ]
     },
     "execution_count": 8,
     "metadata": {},
     "output_type": "execute_result"
    }
   ],
   "source": [
    "number = 1\n",
    "indices = (digits_dataset.targets == number).argwhere()\n",
    "\n",
    "sample_image = digits_dataset[indices[5].item()][0]\n",
    "sample_image.shape"
   ]
  },
  {
   "cell_type": "markdown",
   "metadata": {},
   "source": [
    "We first consider the CNN with 50 perceptrons for the last Fully Connected Layers."
   ]
  },
  {
   "cell_type": "code",
   "execution_count": 12,
   "metadata": {},
   "outputs": [
    {
     "data": {
      "image/png": "[encoded data removed]",
      "text/plain": [
       "<Figure size 1000x600 with 10 Axes>"
      ]
     },
     "metadata": {},
     "output_type": "display_data"
    }
   ],
   "source": [
    "# remember to call detach to detach the weights and biases from the gradients\n",
    "layers_50 = list(conv_net_50p.children())\n",
    "convolved_input = layers_50[1](layers_50[0](sample_image)).detach()\n",
    "draw_filters(sample_image, convolved_input)"
   ]
  },
  {
   "cell_type": "markdown",
   "metadata": {},
   "source": [
    "We then consider the CNN with 100 perceptrons for the last Fully Connected Layers."
   ]
  },
  {
   "cell_type": "code",
   "execution_count": 13,
   "metadata": {},
   "outputs": [
    {
     "data": {
      "image/png": "[encoded data removed]",
      "text/plain": [
       "<Figure size 1000x600 with 10 Axes>"
      ]
     },
     "metadata": {},
     "output_type": "display_data"
    }
   ],
   "source": [
    "layers_100 = list(conv_net_100p.children())\n",
    "convolved_input = layers_100[1](layers_100[0](sample_image)).detach()\n",
    "draw_filters(sample_image, convolved_input)"
   ]
  },
  {
   "cell_type": "code",
   "execution_count": 14,
   "metadata": {},
   "outputs": [
    {
     "name": "stdout",
     "output_type": "stream",
     "text": [
      "50 Perceptron Model\n",
      "Output Values:\n",
      "    tensor([[ 0.0598, -0.9470,  2.8398,  1.1447, -5.6354,  2.5770,  1.7116, -2.2548,\n",
      "          0.7152, -1.4161]])\n",
      "Prediction: 2\n",
      "\n",
      "100 Perceptron Model\n",
      "Output Values:\n",
      "    tensor([[-1.1358,  5.4849,  3.8017,  4.0777, -2.4325,  2.3707,  1.6181, -2.8559,\n",
      "          2.8790, -0.9393]])\n",
      "Prediction: 1\n"
     ]
    }
   ],
   "source": [
    "# unsqueeze to pass the image in as a batch rather than sample\n",
    "predict_vals = (\n",
    "    conv_net_50p(sample_image.unsqueeze(0)).detach(),\n",
    "    conv_net_100p(sample_image.unsqueeze(0)).detach(),\n",
    ")\n",
    "prediction = (\n",
    "    predict_vals[0].argmax().item(),\n",
    "    predict_vals[1].argmax().item(),\n",
    ")\n",
    "\n",
    "print('50 Perceptron Model')\n",
    "print(f\"\"\"Output Values:\n",
    "    {predict_vals[0]}\n",
    "Prediction: {prediction[0]}\"\"\")\n",
    "\n",
    "print('\\n100 Perceptron Model')\n",
    "print(f\"\"\"Output Values:\n",
    "    {predict_vals[1]}\n",
    "Prediction: {prediction[1]}\"\"\")"
   ]
  },
  {
   "cell_type": "markdown",
   "metadata": {},
   "source": [
    "# Inference on unseen data"
   ]
  },
  {
   "cell_type": "markdown",
   "metadata": {},
   "source": [
    "We already observed how well the model can infer unseen images from the test set.\\\n",
    "One thing we notice is that these images are all 28x28 images. So any new images of different size\n",
    "can not be predicted by the model.\n",
    "\n",
    "To solve this issue, we need to change the dimension of the image in some way without losing too much information. For an image with a smaller size than the original 28x28, we can simply add black pixels to the image, which does not add in any unnecessary information to the original image. However, images of larger sizes requires a more contrived method which comes in either a form of cropping or resizing.\n",
    "\n",
    "For cropping methods, we would of course want to choose a region that can contain all or most of the feature of the digit. However, due to our very small window of 28x28, it is not preferable to perform cropping.\\\n",
    "On the other hand, resizing methods can effectively reduce the image size while still preserving the features in the image. The method of resizing we will approach is through downsampling the image in both the row and height.\n",
    "\n",
    "Downsampling can be understood as picking out a pixel every $N$-th pixel within the image where $N\\in\\mathbb{N}$ is referred to as the sampling period, and $\\frac{1}{N}$ is referred to as the sampling rate. However, downsampling on its own can result in artifacts from the aliasing effect. This aliasing occurs because the sampling rate cannot capture the high variations (frequencies) present in the image.\\\n",
    "To avoid this, one will use some form of smoothing before sampling the image. Here, we try the following method:\n",
    "1. Blur images using Gaussian Blur: This is essentially a 2d Convolution on the image where we use a fixed Gaussian kernel instead of a learned kernel.\n",
    "2. Downsample the image respectively in the row and width by choosing every $N$-th pixel.\n",
    "\n",
    "Furthermore, to easily determine the kernel size for blurring to compress into 28x28 image. We will first 'square' the image by zero-padding the suitable dimension.\n",
    "\n",
    "Note that instead of using a Gaussian kernel for the convolution, we can use a different kernel like a Box kernel, Hanning kernel, etc."
   ]
  },
  {
   "cell_type": "code",
   "execution_count": 15,
   "metadata": {},
   "outputs": [],
   "source": [
    "import torchvision\n",
    "\n",
    "from torchvision.transforms import GaussianBlur, Grayscale\n",
    "\n",
    "grayscaler = Grayscale()"
   ]
  },
  {
   "cell_type": "code",
   "execution_count": 16,
   "metadata": {},
   "outputs": [],
   "source": [
    "def compress_image(\n",
    "    img: torch.Tensor,\n",
    "    desired_shape: int,\n",
    "    sigma: int | float = 5,\n",
    "    kern_size: int | None = None\n",
    "):\n",
    "    if img.shape[1] != img.shape[2]:\n",
    "        missing_dim = abs(img.shape[1] - img.shape[2])\n",
    "        if img.shape[1] < img.shape[2]:\n",
    "            img = nn.functional.pad(img, (0, 0, 0, missing_dim))\n",
    "        else:\n",
    "            img = nn.functional.pad(img, (0, missing_dim, 0, 0))\n",
    "\n",
    "\n",
    "    if img.shape[1] == desired_shape:\n",
    "        return img\n",
    "\n",
    "    # Gaussian Blur, the kernel size of 1/4 the image size is taken\n",
    "    # Note that kernel size must be odd\n",
    "    if kern_size is None:\n",
    "        kern_size = img.shape[1] // 4\n",
    "    if kern_size % 2 == 0: kern_size += 1\n",
    "    new_img = GaussianBlur(kern_size, sigma)(img)\n",
    "\n",
    "    # downsample image to best match the desired_shape\n",
    "    # this however does not ensure a perfect match, so we need to\n",
    "    # crop out the extra rows and columns afterwards.\n",
    "    down_sr = new_img.shape[1] // desired_shape\n",
    "    new_img = new_img[:, ::down_sr, ::down_sr]\n",
    "\n",
    "    if new_img.shape != (1, 28, 28):\n",
    "        extra_dims = new_img.shape[1] - 28\n",
    "        new_img = new_img[:, :-extra_dims, :-extra_dims]    \n",
    "    return new_img"
   ]
  },
  {
   "cell_type": "code",
   "execution_count": 28,
   "metadata": {},
   "outputs": [
    {
     "data": {
      "image/png": "[encoded data removed]",
      "text/plain": [
       "<Figure size 900x400 with 2 Axes>"
      ]
     },
     "metadata": {},
     "output_type": "display_data"
    }
   ],
   "source": [
    "img = torchvision.io.read_image('./data/test_img/num1.1.png')\n",
    "img = (255 - grayscaler(img[:3])) / 255\n",
    "\n",
    "lowpass_filtered_image = compress_image(img, 28, 3, 31)\n",
    "\n",
    "\n",
    "fig = plt.figure(figsize=(9, 4))\n",
    "axes = fig.subplots(1, 2)\n",
    "axes[0].set_title(f'Original Image {tuple(img.shape)}')\n",
    "axes[0].imshow(img[0], cmap='gray_r')\n",
    "axes[0].set_xticks([])\n",
    "axes[0].set_yticks([])\n",
    "\n",
    "axes[1].set_title(f'Compressed Image {tuple(lowpass_filtered_image.shape)}')\n",
    "axes[1].imshow(lowpass_filtered_image[0], cmap='gray_r')\n",
    "axes[1].set_xticks([]);\n",
    "axes[1].set_yticks([]);"
   ]
  },
  {
   "cell_type": "code",
   "execution_count": 29,
   "metadata": {},
   "outputs": [
    {
     "data": {
      "image/png": "[encoded data removed]",
      "text/plain": [
       "<Figure size 1100x1100 with 20 Axes>"
      ]
     },
     "metadata": {},
     "output_type": "display_data"
    }
   ],
   "source": [
    "# Reusing the layers extracted from the section above, remember to run those cells!\n",
    "convolved_input = [\n",
    "    layers_50[1](layers_50[0](lowpass_filtered_image)).detach(),\n",
    "    layers_100[1](layers_100[0](lowpass_filtered_image)).detach()\n",
    "]\n",
    "\n",
    "fig = plt.figure(figsize=(11, 11))\n",
    "subfigs = fig.subfigures(2, 1)\n",
    "subfigs[0].suptitle('conv_net_50p')\n",
    "subfigs[1].suptitle('conv_net_100p')\n",
    "\n",
    "draw_filters(lowpass_filtered_image, convolved_input[0], subfigs[0])\n",
    "draw_filters(lowpass_filtered_image, convolved_input[1], subfigs[1])"
   ]
  },
  {
   "cell_type": "code",
   "execution_count": 30,
   "metadata": {},
   "outputs": [
    {
     "name": "stdout",
     "output_type": "stream",
     "text": [
      "50 Perceptron Model\n",
      "Output Values:\n",
      "    tensor([[-2.2753,  1.1118, -1.0834,  2.2705, -1.4827, -0.1307, -3.3655,  2.2629,\n",
      "         -0.7520,  1.1532]])\n",
      "Predicted Probabilities:\n",
      "    tensor([[0.0037, 0.1103, 0.0123, 0.3514, 0.0082, 0.0318, 0.0013, 0.3488, 0.0171,\n",
      "         0.1150]])\n",
      "Prediction: 3\n",
      "\n",
      "100 Perceptron Model\n",
      "Output Values:\n",
      "    tensor([[-1.9010,  2.5988,  0.0665,  3.0269, -0.8428,  0.9097, -2.9399,  3.0065,\n",
      "          0.0215,  2.3119]])\n",
      "Predicted Probabilities:\n",
      "    tensor([[0.0021, 0.1932, 0.0154, 0.2965, 0.0062, 0.0357, 0.0008, 0.2905, 0.0147,\n",
      "         0.1450]])\n",
      "Prediction: 3\n"
     ]
    }
   ],
   "source": [
    "softmax = nn.Softmax(1)\n",
    "\n",
    "# unsqueeze to pass the image in as a batch rather than sample\n",
    "predict_vals = (\n",
    "    conv_net_50p(lowpass_filtered_image.unsqueeze(0)).detach(),\n",
    "    conv_net_100p(lowpass_filtered_image.unsqueeze(0)).detach(),\n",
    ")\n",
    "predict_probs = (\n",
    "    softmax(predict_vals[0]),\n",
    "    softmax(predict_vals[1]),\n",
    ")\n",
    "prediction = (\n",
    "    predict_probs[0].argmax().item(),\n",
    "    predict_probs[1].argmax().item(),\n",
    ")\n",
    "\n",
    "print('50 Perceptron Model')\n",
    "print(f\"\"\"Output Values:\n",
    "    {predict_vals[0]}\n",
    "Predicted Probabilities:\n",
    "    {predict_probs[0]}\n",
    "Prediction: {prediction[0]}\"\"\")\n",
    "\n",
    "print('\\n100 Perceptron Model')\n",
    "print(f\"\"\"Output Values:\n",
    "    {predict_vals[1]}\n",
    "Predicted Probabilities:\n",
    "    {predict_probs[1]}\n",
    "Prediction: {prediction[1]}\"\"\")"
   ]
  },
  {
   "cell_type": "markdown",
   "metadata": {},
   "source": [
    "#"
   ]
  },
  {
   "cell_type": "markdown",
   "metadata": {},
   "source": [
    "Of course, the models are for demonstrative purposes and will not be very good at the classification tasks. Also, the technique of downsamping the image with a low-pass filter is not always desirable and thus will lose valuable information. Most noticeably, the blurring effect intends to smooth the edge features out as an anti-aliasing mechanism when downsampling the image can sometimes smooth the features out too much. This is also known as frequency smearing effect and of course can be reduced by choosing a more suitable kernel size.\\\n",
    "However, the one major thing to notice is that images in MNIST are centered. When the models try to classify an image of digit being slightly off-center, the models will not do this very well simply because they have never encountered such a case and hence does not have any filters to detect the off-center details in the image. This either means we need to collect more data or, **augment** the dataset.\n",
    "\n",
    "Augmentation involves using images available in the dataset to create new images by forms of rotations, transformations in both the color domain and spatial domain, adding random noises, etc."
   ]
  }
 ],
 "metadata": {
  "kernelspec": {
   "display_name": ".DL",
   "language": "python",
   "name": "python3"
  },
  "language_info": {
   "codemirror_mode": {
    "name": "ipython",
    "version": 3
   },
   "file_extension": ".py",
   "mimetype": "text/x-python",
   "name": "python",
   "nbconvert_exporter": "python",
   "pygments_lexer": "ipython3",
   "version": "3.13.2"
  }
 },
 "nbformat": 4,
 "nbformat_minor": 2
}
