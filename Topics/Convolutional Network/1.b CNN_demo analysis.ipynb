{
 "cells": [
  {
   "cell_type": "markdown",
   "metadata": {},
   "source": [
    "This is a demonstration of a 2-D CNN used for Image Classification"
   ]
  },
  {
   "cell_type": "code",
   "execution_count": null,
   "metadata": {},
   "outputs": [
    {
     "name": "stdout",
     "output_type": "stream",
     "text": [
      "gpu_available=True\n"
     ]
    }
   ],
   "source": [
    "import torch\n",
    "\n",
    "from torch import nn\n",
    "from torchvision.datasets import MNIST\n",
    "from torchvision.transforms import ToTensor\n",
    "\n",
    "\n",
    "import math\n",
    "import matplotlib.pyplot as plt\n",
    "\n",
    "gpu_available = torch.cuda.is_available()\n",
    "print(f'{gpu_available=}')"
   ]
  },
  {
   "cell_type": "markdown",
   "metadata": {},
   "source": [
    "# Load MNIST dataset"
   ]
  },
  {
   "cell_type": "code",
   "execution_count": 7,
   "metadata": {},
   "outputs": [
    {
     "name": "stdout",
     "output_type": "stream",
     "text": [
      "torch.Size([60000, 28, 28])\n"
     ]
    }
   ],
   "source": [
    "digits_dataset = MNIST(\n",
    "    root='./data/MNIST', # the folder where data eixsts/is stored,\n",
    "    download=True,\n",
    "    transform=ToTensor() # The image are PIL format, this transform to Tensor objects\n",
    ")\n",
    "print(digits_dataset.data.shape)"
   ]
  },
  {
   "cell_type": "markdown",
   "metadata": {},
   "source": [
    "# Defining previous architecture and loading pre-trained weights"
   ]
  },
  {
   "cell_type": "code",
   "execution_count": 8,
   "metadata": {},
   "outputs": [],
   "source": [
    "class ConvolutionLayer(nn.Module):\n",
    "    def __init__(self,\n",
    "        in_chan: int,\n",
    "        out_chan: int,\n",
    "        activation_fn: nn.Module,\n",
    "        kern_size: int = 3,\n",
    "        pool_kern: int = 2\n",
    "    ):\n",
    "        super().__init__()\n",
    "\n",
    "        self.layer = nn.Sequential(\n",
    "            nn.Conv2d(\n",
    "                in_channels=in_chan,\n",
    "                out_channels=out_chan,\n",
    "                kernel_size=kern_size,\n",
    "                padding='same'\n",
    "            ),\n",
    "            activation_fn,\n",
    "            nn.MaxPool2d(pool_kern)\n",
    "        )\n",
    "\n",
    "    def forward(self, in_data):\n",
    "        return self.layer(in_data)"
   ]
  },
  {
   "cell_type": "code",
   "execution_count": 9,
   "metadata": {},
   "outputs": [],
   "source": [
    "in_features = 4 * 28 * 28 // (2 ** (2 * 2))\n",
    "\n",
    "conv_net_50p = nn.Sequential(\n",
    "    ConvolutionLayer(1, 32, nn.ReLU()),\n",
    "    ConvolutionLayer(32, 4, nn.ReLU()),\n",
    "\n",
    "    nn.Flatten(),\n",
    "    nn.Linear(in_features, 50), nn.ReLU(),\n",
    "    nn.Linear(50, 50), nn.ReLU(),\n",
    "    nn.Linear(50, 10)\n",
    ")\n",
    "conv_net_100p = nn.Sequential(\n",
    "    ConvolutionLayer(1, 32, nn.ReLU()),\n",
    "    ConvolutionLayer(32, 4, nn.ReLU()),\n",
    "\n",
    "    nn.Flatten(),\n",
    "    nn.Linear(in_features, 100), nn.ReLU(),\n",
    "    nn.Linear(100, 100), nn.ReLU(),\n",
    "    nn.Linear(100, 10)\n",
    ")"
   ]
  },
  {
   "cell_type": "code",
   "execution_count": 10,
   "metadata": {},
   "outputs": [],
   "source": [
    "checkpoints = [\n",
    "    torch.load('./output/cnn_demo_3Layer_50Perc.pth', map_location='cpu'),\n",
    "    torch.load('./output/cnn_demo_3Layer_100Perc.pth', map_location='cpu')\n",
    "]\n",
    "# checkpoints[0]['']\n",
    "\n",
    "conv_net_50p.load_state_dict(checkpoints[0]['model_dict'])\n",
    "conv_net_100p.load_state_dict(checkpoints[1]['model_dict'])\n",
    "\n",
    "conv_net_50p.eval()\n",
    "conv_net_100p.eval();"
   ]
  },
  {
   "cell_type": "markdown",
   "metadata": {},
   "source": [
    "# Interpreting the Weights"
   ]
  },
  {
   "cell_type": "code",
   "execution_count": 11,
   "metadata": {},
   "outputs": [],
   "source": [
    "def draw_filters(sample_image, convolved_filters):\n",
    "    cmap = 'gray_r'\n",
    "    layout = [\n",
    "        ['Image', 0, 1],\n",
    "        ['Image', 2, 3]\n",
    "    ]\n",
    "\n",
    "    fig = plt.figure(figsize=(10, 5))\n",
    "    axes = fig.subplot_mosaic(layout, width_ratios=(2, 1, 1))\n",
    "\n",
    "    axes['Image'].imshow(sample_image[0, :, :], cmap=cmap)\n",
    "    axes['Image'].set_title('Original Image')\n",
    "    axes['Image'].set_xticks([])\n",
    "    axes['Image'].set_yticks([])\n",
    "    for i in range(4):\n",
    "        axes[i].set_title(f'Filter {i}')\n",
    "        axes[i].imshow(convolved_filters[i, :, :], cmap=cmap)\n",
    "        axes[i].set_xticks([])\n",
    "        axes[i].set_yticks([])"
   ]
  },
  {
   "cell_type": "markdown",
   "metadata": {},
   "source": [
    "We observe the information extracted in each filters after the two convolutional layers.\\\n",
    "We choose a sample image first."
   ]
  },
  {
   "cell_type": "code",
   "execution_count": 12,
   "metadata": {},
   "outputs": [
    {
     "data": {
      "text/plain": [
       "torch.Size([1, 28, 28])"
      ]
     },
     "execution_count": 12,
     "metadata": {},
     "output_type": "execute_result"
    }
   ],
   "source": [
    "number = 5\n",
    "indices = (digits_dataset.targets == number).argwhere()\n",
    "\n",
    "sample_image = digits_dataset[indices[0].item()][0]\n",
    "sample_image.shape"
   ]
  },
  {
   "cell_type": "markdown",
   "metadata": {},
   "source": [
    "We first consider the CNN with 50 perceptrons for the last Fully Connected Layers."
   ]
  },
  {
   "cell_type": "code",
   "execution_count": null,
   "metadata": {},
   "outputs": [
    {
     "data": {
      "image/png": "[encoded data removed]",
      "text/plain": [
       "<Figure size 1000x500 with 5 Axes>"
      ]
     },
     "metadata": {},
     "output_type": "display_data"
    }
   ],
   "source": [
    "# remember to call detach to detach the weights and biases from the gradients\n",
    "layers_50 = list(conv_net_50p.children())\n",
    "convolved_input = layers_50[1](layers_50[0](sample_image)).detach()\n",
    "draw_filters(sample_image, convolved_input)"
   ]
  },
  {
   "cell_type": "markdown",
   "metadata": {},
   "source": [
    "We then consider the CNN with 100 perceptrons for the last Fully Connected Layers."
   ]
  },
  {
   "cell_type": "code",
   "execution_count": 15,
   "metadata": {},
   "outputs": [
    {
     "data": {
      "image/png": "[encoded data removed]",
      "text/plain": [
       "<Figure size 1000x500 with 5 Axes>"
      ]
     },
     "metadata": {},
     "output_type": "display_data"
    }
   ],
   "source": [
    "layers_100 = list(conv_net_100p.children())\n",
    "convolved_input = layers_100[1](layers_100[0](sample_image)).detach()\n",
    "draw_filters(sample_image, convolved_input)"
   ]
  },
  {
   "cell_type": "markdown",
   "metadata": {},
   "source": [
    "# Inference on unseen data"
   ]
  },
  {
   "cell_type": "markdown",
   "metadata": {},
   "source": [
    "We already observed how well the model can infer unseen images from the test set.\\\n",
    "One thing we notice is that these images are all 28x28 images. So any new images of different size\n",
    "can not be predicted by the model.\n",
    "\n",
    "To solve this issue, we need to change the dimension of the image in some way without losing too much information. For an image with a smaller size than the original 28x28, we can simply add black pixels to the image, which does not add in any unnecessary information to the original image. However, images of larger sizes requires a more contrived method.\\\n",
    "Here, we try the following method of compression the image:\n",
    "1. Blurring images using Gaussian Blur: This is essentially a 2d Convolution on the image where we use a fixed Gaussian kernel instead of a learned kernel. This acts as a low-pass filter where high/rapid changes in colour gets smoothed out.\n",
    "2. Downsampling the image respectively in the row and width by choosing every $n$-th .\n",
    "\n",
    "Furthermore, to easily determine the kernel size for blurring to compress into 28x28 image. We will first 'square' the image by zero-padding the suitable dimension.\n",
    "\n",
    "Note that instead of using a Gaussian kernel for the convolution, we can use a different kernel like a Box kernel, Hanning kernel, etc."
   ]
  },
  {
   "cell_type": "code",
   "execution_count": 16,
   "metadata": {},
   "outputs": [],
   "source": [
    "import torchvision\n",
    "\n",
    "from torchvision.transforms import GaussianBlur"
   ]
  },
  {
   "cell_type": "code",
   "execution_count": 17,
   "metadata": {},
   "outputs": [],
   "source": [
    "def compress_image(\n",
    "    img: torch.Tensor,\n",
    "    desired_shape: int\n",
    "):\n",
    "    if img.shape[1] != img.shape[2]:\n",
    "        missing_dim = abs(img.shape[1] - img.shape[2])\n",
    "        if img.shape[1] < img.shape[2]:\n",
    "            new_img = nn.functional.pad(img, (0, 0, 0, missing_dim))\n",
    "        else:\n",
    "            new_img = nn.functional.pad(img, (0, missing_dim, 0, 0))\n",
    "\n",
    "    if img.shape[1] == desired_shape:\n",
    "        return new_img\n",
    "\n",
    "    # Gaussian Blur, the kernel size of 1/4 the image size is taken\n",
    "    # Note that kernel size must be odd\n",
    "    kern_size = new_img.shape[1] // 4\n",
    "    if kern_size % 2 == 0: kern_size += 1\n",
    "    new_img = GaussianBlur(kern_size, 5)(new_img)\n",
    "\n",
    "    # downsample image to best match the desired_shape\n",
    "    # this however does not ensure a perfect match, so we need to\n",
    "    # crop out the extra rows and columns afterwards.\n",
    "    down_sr = new_img.shape[1] // desired_shape\n",
    "    new_img = new_img[:, ::down_sr, ::down_sr]\n",
    "\n",
    "    if new_img.shape != (1, 28, 28):\n",
    "        extra_dims = new_img.shape[1] - 28\n",
    "        new_img = new_img[:, :-extra_dims, :-extra_dims]    \n",
    "    return new_img"
   ]
  },
  {
   "cell_type": "code",
   "execution_count": 35,
   "metadata": {},
   "outputs": [
    {
     "data": {
      "image/png": "[encoded data removed]",
      "text/plain": [
       "<Figure size 900x400 with 2 Axes>"
      ]
     },
     "metadata": {},
     "output_type": "display_data"
    }
   ],
   "source": [
    "img = torchvision.io.read_image('./data/test_img/num5.2.png')\n",
    "img = (img[0:1] - 255) / 255\n",
    "\n",
    "lowpass_filtered_image = compress_image(img, 28)\n",
    "\n",
    "\n",
    "fig = plt.figure(figsize=(9, 4))\n",
    "axes = fig.subplots(1, 2)\n",
    "axes[0].set_title(f'Original Image {tuple(img.shape)}')\n",
    "axes[0].imshow(img[0], cmap='gray_r')\n",
    "axes[0].set_xticks([])\n",
    "axes[0].set_yticks([])\n",
    "\n",
    "axes[1].set_title(f'Compressed Image {tuple(lowpass_filtered_image.shape)}')\n",
    "axes[1].imshow(lowpass_filtered_image[0], cmap='gray_r')\n",
    "axes[1].set_xticks([]);\n",
    "axes[1].set_yticks([]);"
   ]
  },
  {
   "cell_type": "code",
   "execution_count": 36,
   "metadata": {},
   "outputs": [
    {
     "data": {
      "image/png": "[encoded data removed]",
      "text/plain": [
       "<Figure size 1000x500 with 5 Axes>"
      ]
     },
     "metadata": {},
     "output_type": "display_data"
    }
   ],
   "source": [
    "# Reusing the layers extracted from the section above, remember to run those cells!\n",
    "convolved_input = layers_50[1](layers_50[0](lowpass_filtered_image)).detach()\n",
    "\n",
    "draw_filters(lowpass_filtered_image, convolved_input)"
   ]
  },
  {
   "cell_type": "code",
   "execution_count": 37,
   "metadata": {},
   "outputs": [
    {
     "data": {
      "image/png": "[encoded data removed]",
      "text/plain": [
       "<Figure size 1000x500 with 5 Axes>"
      ]
     },
     "metadata": {},
     "output_type": "display_data"
    }
   ],
   "source": [
    "convolved_input = layers_100[1](layers_100[0](lowpass_filtered_image)).detach()\n",
    "\n",
    "draw_filters(lowpass_filtered_image, convolved_input)"
   ]
  },
  {
   "cell_type": "code",
   "execution_count": 38,
   "metadata": {},
   "outputs": [
    {
     "name": "stdout",
     "output_type": "stream",
     "text": [
      "50 Perceptron Model\n",
      "Output Values:\n",
      "    tensor([[-0.4259,  0.7022, -0.0352,  0.3852, -0.1575,  0.2408, -0.1936,  0.0430,\n",
      "          0.3811,  0.0337]])\n",
      "Predicted Probabilities:\n",
      "    tensor([[0.0563, 0.1740, 0.0832, 0.1267, 0.0736, 0.1097, 0.0710, 0.0900, 0.1262,\n",
      "         0.0892]])\n",
      "Prediction: 1\n",
      "\n",
      "100 Perceptron Model\n",
      "Output Values:\n",
      "    tensor([[-0.4841,  0.3743,  0.3066,  0.7344, -0.8778,  0.7684, -0.5303, -0.1359,\n",
      "          0.1393, -0.7093]])\n",
      "Predicted Probabilities:\n",
      "    tensor([[0.0551, 0.1300, 0.1215, 0.1863, 0.0372, 0.1927, 0.0526, 0.0780, 0.1027,\n",
      "         0.0440]])\n",
      "Prediction: 5\n"
     ]
    }
   ],
   "source": [
    "softmax = nn.Softmax(1)\n",
    "\n",
    "# unsqueeze to pass the image in as a batch rather than sample\n",
    "predict_vals = (\n",
    "    conv_net_50p(lowpass_filtered_image.unsqueeze(0)).detach(),\n",
    "    conv_net_100p(lowpass_filtered_image.unsqueeze(0)).detach(),\n",
    ")\n",
    "predict_probs = (\n",
    "    softmax(predict_vals[0]),\n",
    "    softmax(predict_vals[1]),\n",
    ")\n",
    "prediction = (\n",
    "    predict_probs[0].argmax().item(),\n",
    "    predict_probs[1].argmax().item(),\n",
    ")\n",
    "\n",
    "print('50 Perceptron Model')\n",
    "print(f\"\"\"Output Values:\n",
    "    {predict_vals[0]}\n",
    "Predicted Probabilities:\n",
    "    {predict_probs[0]}\n",
    "Prediction: {prediction[0]}\"\"\")\n",
    "\n",
    "print('\\n100 Perceptron Model')\n",
    "print(f\"\"\"Output Values:\n",
    "    {predict_vals[1]}\n",
    "Predicted Probabilities:\n",
    "    {predict_probs[1]}\n",
    "Prediction: {prediction[1]}\"\"\")"
   ]
  }
 ],
 "metadata": {
  "kernelspec": {
   "display_name": ".DL",
   "language": "python",
   "name": "python3"
  },
  "language_info": {
   "codemirror_mode": {
    "name": "ipython",
    "version": 3
   },
   "file_extension": ".py",
   "mimetype": "text/x-python",
   "name": "python",
   "nbconvert_exporter": "python",
   "pygments_lexer": "ipython3",
   "version": "3.13.2"
  }
 },
 "nbformat": 4,
 "nbformat_minor": 2
}
