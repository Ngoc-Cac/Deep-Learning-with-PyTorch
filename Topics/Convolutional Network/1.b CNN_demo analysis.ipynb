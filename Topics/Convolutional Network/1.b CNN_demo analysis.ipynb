{
 "cells": [
  {
   "cell_type": "markdown",
   "metadata": {},
   "source": [
    "This is a demonstration of a 2-D CNN used for Image Classification"
   ]
  },
  {
   "cell_type": "code",
   "execution_count": 3,
   "metadata": {},
   "outputs": [],
   "source": [
    "import torch\n",
    "\n",
    "from torch import nn\n",
    "from torchvision.datasets import MNIST\n",
    "from torchvision.transforms import ToTensor\n",
    "\n",
    "\n",
    "import matplotlib.pyplot as plt"
   ]
  },
  {
   "cell_type": "markdown",
   "metadata": {},
   "source": [
    "# Load MNIST dataset"
   ]
  },
  {
   "cell_type": "code",
   "execution_count": 4,
   "metadata": {},
   "outputs": [
    {
     "name": "stdout",
     "output_type": "stream",
     "text": [
      "torch.Size([60000, 28, 28])\n"
     ]
    }
   ],
   "source": [
    "digits_dataset = MNIST(\n",
    "    root='../../data',\n",
    "    download=True,\n",
    "    transform=ToTensor()\n",
    ")\n",
    "print(digits_dataset.data.shape)"
   ]
  },
  {
   "cell_type": "markdown",
   "metadata": {},
   "source": [
    "# Defining previous architecture and loading pre-trained weights"
   ]
  },
  {
   "cell_type": "code",
   "execution_count": 5,
   "metadata": {},
   "outputs": [],
   "source": [
    "class ConvolutionLayer(nn.Module):\n",
    "    def __init__(self,\n",
    "        in_chan: int,\n",
    "        out_chan: int,\n",
    "        activation_fn: nn.Module,\n",
    "        kern_size: int = 3,\n",
    "        pool_kern: int = 2\n",
    "    ):\n",
    "        super().__init__()\n",
    "\n",
    "        self.layer = nn.Sequential(\n",
    "            nn.Conv2d(\n",
    "                in_channels=in_chan,\n",
    "                out_channels=out_chan,\n",
    "                kernel_size=kern_size,\n",
    "                padding='same'\n",
    "            ),\n",
    "            activation_fn,\n",
    "            nn.MaxPool2d(pool_kern)\n",
    "        )\n",
    "\n",
    "    def forward(self, in_data):\n",
    "        return self.layer(in_data)"
   ]
  },
  {
   "cell_type": "code",
   "execution_count": 6,
   "metadata": {},
   "outputs": [],
   "source": [
    "in_features = 4 * 28 * 28 // (2 ** (2 * 2))\n",
    "\n",
    "conv_net_50p = nn.Sequential(\n",
    "    ConvolutionLayer(1, 32, nn.ReLU()),\n",
    "    ConvolutionLayer(32, 4, nn.ReLU()),\n",
    "\n",
    "    nn.Flatten(),\n",
    "    nn.Linear(in_features, 50), nn.ReLU(),\n",
    "    nn.Linear(50, 50), nn.ReLU(),\n",
    "    nn.Linear(50, 10)\n",
    ")\n",
    "conv_net_100p = nn.Sequential(\n",
    "    ConvolutionLayer(1, 32, nn.ReLU()),\n",
    "    ConvolutionLayer(32, 4, nn.ReLU()),\n",
    "\n",
    "    nn.Flatten(),\n",
    "    nn.Linear(in_features, 100), nn.ReLU(),\n",
    "    nn.Linear(100, 100), nn.ReLU(),\n",
    "    nn.Linear(100, 10)\n",
    ")"
   ]
  },
  {
   "cell_type": "code",
   "execution_count": 7,
   "metadata": {},
   "outputs": [],
   "source": [
    "checkpoints = [\n",
    "    torch.load('./output/cnn_demo_3Layer_50Perc.pth', map_location='cpu'),\n",
    "    torch.load('./output/cnn_demo_3Layer_100Perc.pth', map_location='cpu')\n",
    "]\n",
    "\n",
    "conv_net_50p.load_state_dict(checkpoints[0]['model_dict'])\n",
    "conv_net_100p.load_state_dict(checkpoints[1]['model_dict'])\n",
    "\n",
    "conv_net_50p.eval()\n",
    "conv_net_100p.eval();"
   ]
  },
  {
   "cell_type": "markdown",
   "metadata": {},
   "source": [
    "# Interpreting the Weights"
   ]
  },
  {
   "cell_type": "code",
   "execution_count": 8,
   "metadata": {},
   "outputs": [],
   "source": [
    "def draw_filters(sample_image, convolved_filters, fig=None):\n",
    "    cmap = 'gray_r'\n",
    "    layout = [\n",
    "        ['Image', 0, 1],\n",
    "        ['Image', 2, 3]\n",
    "    ]\n",
    "\n",
    "    if fig is None:\n",
    "        fig = plt.figure(figsize=(10, 5))\n",
    "    axes = fig.subplot_mosaic(layout, width_ratios=(2, 1, 1))\n",
    "\n",
    "    axes['Image'].imshow(sample_image[0, :, :], cmap=cmap)\n",
    "    axes['Image'].set_title('Original Image')\n",
    "    axes['Image'].set_xticks([])\n",
    "    axes['Image'].set_yticks([])\n",
    "    for i in range(4):\n",
    "        axes[i].set_title(f'Filter {i}')\n",
    "        axes[i].imshow(convolved_filters[i, :, :], cmap=cmap)\n",
    "        axes[i].set_xticks([])\n",
    "        axes[i].set_yticks([])"
   ]
  },
  {
   "cell_type": "markdown",
   "metadata": {},
   "source": [
    "We observe the information extracted in each filters after the two convolutional layers.\\\n",
    "We choose a sample image first."
   ]
  },
  {
   "cell_type": "code",
   "execution_count": 9,
   "metadata": {},
   "outputs": [
    {
     "data": {
      "text/plain": [
       "torch.Size([1, 28, 28])"
      ]
     },
     "execution_count": 9,
     "metadata": {},
     "output_type": "execute_result"
    }
   ],
   "source": [
    "number = 1\n",
    "indices = (digits_dataset.targets == number).argwhere()\n",
    "\n",
    "sample_image = digits_dataset[indices[5].item()][0]\n",
    "sample_image.shape"
   ]
  },
  {
   "cell_type": "markdown",
   "metadata": {},
   "source": [
    "We first consider the CNN with 50 perceptrons for the last Fully Connected Layers."
   ]
  },
  {
   "cell_type": "code",
   "execution_count": 10,
   "metadata": {},
   "outputs": [
    {
     "data": {
      "image/png": "[encoded data removed]",
      "text/plain": [
       "<Figure size 1000x500 with 5 Axes>"
      ]
     },
     "metadata": {},
     "output_type": "display_data"
    }
   ],
   "source": [
    "# remember to call detach to detach the weights and biases from the gradients\n",
    "layers_50 = list(conv_net_50p.children())\n",
    "convolved_input = layers_50[1](layers_50[0](sample_image)).detach()\n",
    "draw_filters(sample_image, convolved_input)"
   ]
  },
  {
   "cell_type": "markdown",
   "metadata": {},
   "source": [
    "We then consider the CNN with 100 perceptrons for the last Fully Connected Layers."
   ]
  },
  {
   "cell_type": "code",
   "execution_count": 11,
   "metadata": {},
   "outputs": [
    {
     "data": {
      "image/png": "[encoded data removed]",
      "text/plain": [
       "<Figure size 1000x500 with 5 Axes>"
      ]
     },
     "metadata": {},
     "output_type": "display_data"
    }
   ],
   "source": [
    "layers_100 = list(conv_net_100p.children())\n",
    "convolved_input = layers_100[1](layers_100[0](sample_image)).detach()\n",
    "draw_filters(sample_image, convolved_input)"
   ]
  },
  {
   "cell_type": "code",
   "execution_count": 12,
   "metadata": {},
   "outputs": [
    {
     "name": "stdout",
     "output_type": "stream",
     "text": [
      "50 Perceptron Model\n",
      "Output Values:\n",
      "    tensor([[ 0.1507,  0.9432,  2.4346,  1.7338, -2.1223,  1.4237,  1.4559, -3.6162,\n",
      "          1.5220, -1.6726]])\n",
      "Prediction: 2\n",
      "\n",
      "100 Perceptron Model\n",
      "Output Values:\n",
      "    tensor([[-0.4341, -0.4903,  2.0937,  3.5750, -4.8494,  1.5722,  1.5238, -2.3102,\n",
      "          0.5061, -2.3335]])\n",
      "Prediction: 3\n"
     ]
    }
   ],
   "source": [
    "# unsqueeze to pass the image in as a batch rather than sample\n",
    "predict_vals = (\n",
    "    conv_net_50p(sample_image.unsqueeze(0)).detach(),\n",
    "    conv_net_100p(sample_image.unsqueeze(0)).detach(),\n",
    ")\n",
    "prediction = (\n",
    "    predict_vals[0].argmax().item(),\n",
    "    predict_vals[1].argmax().item(),\n",
    ")\n",
    "\n",
    "print('50 Perceptron Model')\n",
    "print(f\"\"\"Output Values:\n",
    "    {predict_vals[0]}\n",
    "Prediction: {prediction[0]}\"\"\")\n",
    "\n",
    "print('\\n100 Perceptron Model')\n",
    "print(f\"\"\"Output Values:\n",
    "    {predict_vals[1]}\n",
    "Prediction: {prediction[1]}\"\"\")"
   ]
  },
  {
   "cell_type": "markdown",
   "metadata": {},
   "source": [
    "# Inference on unseen data"
   ]
  },
  {
   "cell_type": "markdown",
   "metadata": {},
   "source": [
    "We already observed how well the model can infer unseen images from the test set.\\\n",
    "One thing we notice is that these images are all 28x28 images. So any new images of different size\n",
    "can not be predicted by the model.\n",
    "\n",
    "To solve this issue, we need to change the dimension of the image in some way without losing too much information. For an image with a smaller size than the original 28x28, we can simply add black pixels to the image, which does not add in any unnecessary information to the original image. However, images of larger sizes requires a more contrived method.\\\n",
    "Here, we try the following method of compression the image:\n",
    "1. Blurring images using Gaussian Blur: This is essentially a 2d Convolution on the image where we use a fixed Gaussian kernel instead of a learned kernel. This acts as a low-pass filter where high/rapid changes in colour gets smoothed out.\n",
    "2. Downsampling the image respectively in the row and width by choosing every $n$-th .\n",
    "\n",
    "Furthermore, to easily determine the kernel size for blurring to compress into 28x28 image. We will first 'square' the image by zero-padding the suitable dimension.\n",
    "\n",
    "Note that instead of using a Gaussian kernel for the convolution, we can use a different kernel like a Box kernel, Hanning kernel, etc."
   ]
  },
  {
   "cell_type": "code",
   "execution_count": 13,
   "metadata": {},
   "outputs": [],
   "source": [
    "import torchvision\n",
    "\n",
    "from torchvision.transforms import GaussianBlur, Grayscale\n",
    "\n",
    "grayscaler = Grayscale()"
   ]
  },
  {
   "cell_type": "code",
   "execution_count": 15,
   "metadata": {},
   "outputs": [],
   "source": [
    "def compress_image(\n",
    "    img: torch.Tensor,\n",
    "    desired_shape: int,\n",
    "    sigma: int | float = 5,\n",
    "    kern_size: int | None = None\n",
    "):\n",
    "    if img.shape[1] != img.shape[2]:\n",
    "        missing_dim = abs(img.shape[1] - img.shape[2])\n",
    "        if img.shape[1] < img.shape[2]:\n",
    "            img = nn.functional.pad(img, (0, 0, 0, missing_dim))\n",
    "        else:\n",
    "            img = nn.functional.pad(img, (0, missing_dim, 0, 0))\n",
    "\n",
    "\n",
    "    if img.shape[1] == desired_shape:\n",
    "        return img\n",
    "\n",
    "    # Gaussian Blur, the kernel size of 1/4 the image size is taken\n",
    "    # Note that kernel size must be odd\n",
    "    if kern_size is None:\n",
    "        kern_size = img.shape[1] // 4\n",
    "    if kern_size % 2 == 0: kern_size += 1\n",
    "    new_img = GaussianBlur(kern_size, sigma)(img)\n",
    "\n",
    "    # downsample image to best match the desired_shape\n",
    "    # this however does not ensure a perfect match, so we need to\n",
    "    # crop out the extra rows and columns afterwards.\n",
    "    down_sr = new_img.shape[1] // desired_shape\n",
    "    new_img = new_img[:, ::down_sr, ::down_sr]\n",
    "\n",
    "    if new_img.shape != (1, 28, 28):\n",
    "        extra_dims = new_img.shape[1] - 28\n",
    "        new_img = new_img[:, :-extra_dims, :-extra_dims]    \n",
    "    return new_img"
   ]
  },
  {
   "cell_type": "code",
   "execution_count": null,
   "metadata": {},
   "outputs": [
    {
     "data": {
      "image/png": "[encoded data removed]",
      "text/plain": [
       "<Figure size 900x400 with 2 Axes>"
      ]
     },
     "metadata": {},
     "output_type": "display_data"
    }
   ],
   "source": [
    "img = torchvision.io.read_image('./data/test_img/num1.2.png')\n",
    "img = (255 - grayscaler(img[:3])) / 255\n",
    "\n",
    "lowpass_filtered_image = compress_image(img, 28, 3, 31)\n",
    "\n",
    "\n",
    "fig = plt.figure(figsize=(9, 4))\n",
    "axes = fig.subplots(1, 2)\n",
    "axes[0].set_title(f'Original Image {tuple(img.shape)}')\n",
    "axes[0].imshow(img[0], cmap='gray_r')\n",
    "axes[0].set_xticks([])\n",
    "axes[0].set_yticks([])\n",
    "\n",
    "axes[1].set_title(f'Compressed Image {tuple(lowpass_filtered_image.shape)}')\n",
    "axes[1].imshow(lowpass_filtered_image[0], cmap='gray_r')\n",
    "axes[1].set_xticks([]);\n",
    "axes[1].set_yticks([]);"
   ]
  },
  {
   "cell_type": "code",
   "execution_count": null,
   "metadata": {},
   "outputs": [
    {
     "ename": "RuntimeError",
     "evalue": "expected scalar type Byte but found Float",
     "output_type": "error",
     "traceback": [
      "\u001b[31m---------------------------------------------------------------------------\u001b[39m",
      "\u001b[31mRuntimeError\u001b[39m                              Traceback (most recent call last)",
      "\u001b[36mCell\u001b[39m\u001b[36m \u001b[39m\u001b[32mIn[20]\u001b[39m\u001b[32m, line 3\u001b[39m\n\u001b[32m      1\u001b[39m \u001b[38;5;66;03m# Reusing the layers extracted from the section above, remember to run those cells!\u001b[39;00m\n\u001b[32m      2\u001b[39m convolved_input = [\n\u001b[32m----> \u001b[39m\u001b[32m3\u001b[39m     layers_50[\u001b[32m1\u001b[39m](\u001b[43mlayers_50\u001b[49m\u001b[43m[\u001b[49m\u001b[32;43m0\u001b[39;49m\u001b[43m]\u001b[49m\u001b[43m(\u001b[49m\u001b[43mlowpass_filtered_image\u001b[49m\u001b[43m.\u001b[49m\u001b[43munsqueeze\u001b[49m\u001b[43m(\u001b[49m\u001b[32;43m0\u001b[39;49m\u001b[43m)\u001b[49m\u001b[43m)\u001b[49m).detach(),\n\u001b[32m      4\u001b[39m     layers_100[\u001b[32m1\u001b[39m](layers_100[\u001b[32m0\u001b[39m](lowpass_filtered_image.unsqueeze(\u001b[32m0\u001b[39m))).detach()\n\u001b[32m      5\u001b[39m ]\n\u001b[32m      7\u001b[39m fig = plt.figure(figsize=(\u001b[32m10\u001b[39m, \u001b[32m10\u001b[39m))\n\u001b[32m      8\u001b[39m subfigs = fig.subfigures(\u001b[32m2\u001b[39m, \u001b[32m1\u001b[39m)\n",
      "\u001b[36mFile \u001b[39m\u001b[32md:\\!Projects\\Python\\!AI & ML\\DL\\.DL\\Lib\\site-packages\\torch\\nn\\modules\\module.py:1739\u001b[39m, in \u001b[36mModule._wrapped_call_impl\u001b[39m\u001b[34m(self, *args, **kwargs)\u001b[39m\n\u001b[32m   1737\u001b[39m     \u001b[38;5;28;01mreturn\u001b[39;00m \u001b[38;5;28mself\u001b[39m._compiled_call_impl(*args, **kwargs)  \u001b[38;5;66;03m# type: ignore[misc]\u001b[39;00m\n\u001b[32m   1738\u001b[39m \u001b[38;5;28;01melse\u001b[39;00m:\n\u001b[32m-> \u001b[39m\u001b[32m1739\u001b[39m     \u001b[38;5;28;01mreturn\u001b[39;00m \u001b[38;5;28;43mself\u001b[39;49m\u001b[43m.\u001b[49m\u001b[43m_call_impl\u001b[49m\u001b[43m(\u001b[49m\u001b[43m*\u001b[49m\u001b[43margs\u001b[49m\u001b[43m,\u001b[49m\u001b[43m \u001b[49m\u001b[43m*\u001b[49m\u001b[43m*\u001b[49m\u001b[43mkwargs\u001b[49m\u001b[43m)\u001b[49m\n",
      "\u001b[36mFile \u001b[39m\u001b[32md:\\!Projects\\Python\\!AI & ML\\DL\\.DL\\Lib\\site-packages\\torch\\nn\\modules\\module.py:1750\u001b[39m, in \u001b[36mModule._call_impl\u001b[39m\u001b[34m(self, *args, **kwargs)\u001b[39m\n\u001b[32m   1745\u001b[39m \u001b[38;5;66;03m# If we don't have any hooks, we want to skip the rest of the logic in\u001b[39;00m\n\u001b[32m   1746\u001b[39m \u001b[38;5;66;03m# this function, and just call forward.\u001b[39;00m\n\u001b[32m   1747\u001b[39m \u001b[38;5;28;01mif\u001b[39;00m \u001b[38;5;129;01mnot\u001b[39;00m (\u001b[38;5;28mself\u001b[39m._backward_hooks \u001b[38;5;129;01mor\u001b[39;00m \u001b[38;5;28mself\u001b[39m._backward_pre_hooks \u001b[38;5;129;01mor\u001b[39;00m \u001b[38;5;28mself\u001b[39m._forward_hooks \u001b[38;5;129;01mor\u001b[39;00m \u001b[38;5;28mself\u001b[39m._forward_pre_hooks\n\u001b[32m   1748\u001b[39m         \u001b[38;5;129;01mor\u001b[39;00m _global_backward_pre_hooks \u001b[38;5;129;01mor\u001b[39;00m _global_backward_hooks\n\u001b[32m   1749\u001b[39m         \u001b[38;5;129;01mor\u001b[39;00m _global_forward_hooks \u001b[38;5;129;01mor\u001b[39;00m _global_forward_pre_hooks):\n\u001b[32m-> \u001b[39m\u001b[32m1750\u001b[39m     \u001b[38;5;28;01mreturn\u001b[39;00m \u001b[43mforward_call\u001b[49m\u001b[43m(\u001b[49m\u001b[43m*\u001b[49m\u001b[43margs\u001b[49m\u001b[43m,\u001b[49m\u001b[43m \u001b[49m\u001b[43m*\u001b[49m\u001b[43m*\u001b[49m\u001b[43mkwargs\u001b[49m\u001b[43m)\u001b[49m\n\u001b[32m   1752\u001b[39m result = \u001b[38;5;28;01mNone\u001b[39;00m\n\u001b[32m   1753\u001b[39m called_always_called_hooks = \u001b[38;5;28mset\u001b[39m()\n",
      "\u001b[36mCell\u001b[39m\u001b[36m \u001b[39m\u001b[32mIn[5]\u001b[39m\u001b[32m, line 23\u001b[39m, in \u001b[36mConvolutionLayer.forward\u001b[39m\u001b[34m(self, in_data)\u001b[39m\n\u001b[32m     22\u001b[39m \u001b[38;5;28;01mdef\u001b[39;00m\u001b[38;5;250m \u001b[39m\u001b[34mforward\u001b[39m(\u001b[38;5;28mself\u001b[39m, in_data):\n\u001b[32m---> \u001b[39m\u001b[32m23\u001b[39m     \u001b[38;5;28;01mreturn\u001b[39;00m \u001b[38;5;28;43mself\u001b[39;49m\u001b[43m.\u001b[49m\u001b[43mlayer\u001b[49m\u001b[43m(\u001b[49m\u001b[43min_data\u001b[49m\u001b[43m)\u001b[49m\n",
      "\u001b[36mFile \u001b[39m\u001b[32md:\\!Projects\\Python\\!AI & ML\\DL\\.DL\\Lib\\site-packages\\torch\\nn\\modules\\module.py:1739\u001b[39m, in \u001b[36mModule._wrapped_call_impl\u001b[39m\u001b[34m(self, *args, **kwargs)\u001b[39m\n\u001b[32m   1737\u001b[39m     \u001b[38;5;28;01mreturn\u001b[39;00m \u001b[38;5;28mself\u001b[39m._compiled_call_impl(*args, **kwargs)  \u001b[38;5;66;03m# type: ignore[misc]\u001b[39;00m\n\u001b[32m   1738\u001b[39m \u001b[38;5;28;01melse\u001b[39;00m:\n\u001b[32m-> \u001b[39m\u001b[32m1739\u001b[39m     \u001b[38;5;28;01mreturn\u001b[39;00m \u001b[38;5;28;43mself\u001b[39;49m\u001b[43m.\u001b[49m\u001b[43m_call_impl\u001b[49m\u001b[43m(\u001b[49m\u001b[43m*\u001b[49m\u001b[43margs\u001b[49m\u001b[43m,\u001b[49m\u001b[43m \u001b[49m\u001b[43m*\u001b[49m\u001b[43m*\u001b[49m\u001b[43mkwargs\u001b[49m\u001b[43m)\u001b[49m\n",
      "\u001b[36mFile \u001b[39m\u001b[32md:\\!Projects\\Python\\!AI & ML\\DL\\.DL\\Lib\\site-packages\\torch\\nn\\modules\\module.py:1750\u001b[39m, in \u001b[36mModule._call_impl\u001b[39m\u001b[34m(self, *args, **kwargs)\u001b[39m\n\u001b[32m   1745\u001b[39m \u001b[38;5;66;03m# If we don't have any hooks, we want to skip the rest of the logic in\u001b[39;00m\n\u001b[32m   1746\u001b[39m \u001b[38;5;66;03m# this function, and just call forward.\u001b[39;00m\n\u001b[32m   1747\u001b[39m \u001b[38;5;28;01mif\u001b[39;00m \u001b[38;5;129;01mnot\u001b[39;00m (\u001b[38;5;28mself\u001b[39m._backward_hooks \u001b[38;5;129;01mor\u001b[39;00m \u001b[38;5;28mself\u001b[39m._backward_pre_hooks \u001b[38;5;129;01mor\u001b[39;00m \u001b[38;5;28mself\u001b[39m._forward_hooks \u001b[38;5;129;01mor\u001b[39;00m \u001b[38;5;28mself\u001b[39m._forward_pre_hooks\n\u001b[32m   1748\u001b[39m         \u001b[38;5;129;01mor\u001b[39;00m _global_backward_pre_hooks \u001b[38;5;129;01mor\u001b[39;00m _global_backward_hooks\n\u001b[32m   1749\u001b[39m         \u001b[38;5;129;01mor\u001b[39;00m _global_forward_hooks \u001b[38;5;129;01mor\u001b[39;00m _global_forward_pre_hooks):\n\u001b[32m-> \u001b[39m\u001b[32m1750\u001b[39m     \u001b[38;5;28;01mreturn\u001b[39;00m \u001b[43mforward_call\u001b[49m\u001b[43m(\u001b[49m\u001b[43m*\u001b[49m\u001b[43margs\u001b[49m\u001b[43m,\u001b[49m\u001b[43m \u001b[49m\u001b[43m*\u001b[49m\u001b[43m*\u001b[49m\u001b[43mkwargs\u001b[49m\u001b[43m)\u001b[49m\n\u001b[32m   1752\u001b[39m result = \u001b[38;5;28;01mNone\u001b[39;00m\n\u001b[32m   1753\u001b[39m called_always_called_hooks = \u001b[38;5;28mset\u001b[39m()\n",
      "\u001b[36mFile \u001b[39m\u001b[32md:\\!Projects\\Python\\!AI & ML\\DL\\.DL\\Lib\\site-packages\\torch\\nn\\modules\\container.py:250\u001b[39m, in \u001b[36mSequential.forward\u001b[39m\u001b[34m(self, input)\u001b[39m\n\u001b[32m    248\u001b[39m \u001b[38;5;28;01mdef\u001b[39;00m\u001b[38;5;250m \u001b[39m\u001b[34mforward\u001b[39m(\u001b[38;5;28mself\u001b[39m, \u001b[38;5;28minput\u001b[39m):\n\u001b[32m    249\u001b[39m     \u001b[38;5;28;01mfor\u001b[39;00m module \u001b[38;5;129;01min\u001b[39;00m \u001b[38;5;28mself\u001b[39m:\n\u001b[32m--> \u001b[39m\u001b[32m250\u001b[39m         \u001b[38;5;28minput\u001b[39m = \u001b[43mmodule\u001b[49m\u001b[43m(\u001b[49m\u001b[38;5;28;43minput\u001b[39;49m\u001b[43m)\u001b[49m\n\u001b[32m    251\u001b[39m     \u001b[38;5;28;01mreturn\u001b[39;00m \u001b[38;5;28minput\u001b[39m\n",
      "\u001b[36mFile \u001b[39m\u001b[32md:\\!Projects\\Python\\!AI & ML\\DL\\.DL\\Lib\\site-packages\\torch\\nn\\modules\\module.py:1739\u001b[39m, in \u001b[36mModule._wrapped_call_impl\u001b[39m\u001b[34m(self, *args, **kwargs)\u001b[39m\n\u001b[32m   1737\u001b[39m     \u001b[38;5;28;01mreturn\u001b[39;00m \u001b[38;5;28mself\u001b[39m._compiled_call_impl(*args, **kwargs)  \u001b[38;5;66;03m# type: ignore[misc]\u001b[39;00m\n\u001b[32m   1738\u001b[39m \u001b[38;5;28;01melse\u001b[39;00m:\n\u001b[32m-> \u001b[39m\u001b[32m1739\u001b[39m     \u001b[38;5;28;01mreturn\u001b[39;00m \u001b[38;5;28;43mself\u001b[39;49m\u001b[43m.\u001b[49m\u001b[43m_call_impl\u001b[49m\u001b[43m(\u001b[49m\u001b[43m*\u001b[49m\u001b[43margs\u001b[49m\u001b[43m,\u001b[49m\u001b[43m \u001b[49m\u001b[43m*\u001b[49m\u001b[43m*\u001b[49m\u001b[43mkwargs\u001b[49m\u001b[43m)\u001b[49m\n",
      "\u001b[36mFile \u001b[39m\u001b[32md:\\!Projects\\Python\\!AI & ML\\DL\\.DL\\Lib\\site-packages\\torch\\nn\\modules\\module.py:1750\u001b[39m, in \u001b[36mModule._call_impl\u001b[39m\u001b[34m(self, *args, **kwargs)\u001b[39m\n\u001b[32m   1745\u001b[39m \u001b[38;5;66;03m# If we don't have any hooks, we want to skip the rest of the logic in\u001b[39;00m\n\u001b[32m   1746\u001b[39m \u001b[38;5;66;03m# this function, and just call forward.\u001b[39;00m\n\u001b[32m   1747\u001b[39m \u001b[38;5;28;01mif\u001b[39;00m \u001b[38;5;129;01mnot\u001b[39;00m (\u001b[38;5;28mself\u001b[39m._backward_hooks \u001b[38;5;129;01mor\u001b[39;00m \u001b[38;5;28mself\u001b[39m._backward_pre_hooks \u001b[38;5;129;01mor\u001b[39;00m \u001b[38;5;28mself\u001b[39m._forward_hooks \u001b[38;5;129;01mor\u001b[39;00m \u001b[38;5;28mself\u001b[39m._forward_pre_hooks\n\u001b[32m   1748\u001b[39m         \u001b[38;5;129;01mor\u001b[39;00m _global_backward_pre_hooks \u001b[38;5;129;01mor\u001b[39;00m _global_backward_hooks\n\u001b[32m   1749\u001b[39m         \u001b[38;5;129;01mor\u001b[39;00m _global_forward_hooks \u001b[38;5;129;01mor\u001b[39;00m _global_forward_pre_hooks):\n\u001b[32m-> \u001b[39m\u001b[32m1750\u001b[39m     \u001b[38;5;28;01mreturn\u001b[39;00m \u001b[43mforward_call\u001b[49m\u001b[43m(\u001b[49m\u001b[43m*\u001b[49m\u001b[43margs\u001b[49m\u001b[43m,\u001b[49m\u001b[43m \u001b[49m\u001b[43m*\u001b[49m\u001b[43m*\u001b[49m\u001b[43mkwargs\u001b[49m\u001b[43m)\u001b[49m\n\u001b[32m   1752\u001b[39m result = \u001b[38;5;28;01mNone\u001b[39;00m\n\u001b[32m   1753\u001b[39m called_always_called_hooks = \u001b[38;5;28mset\u001b[39m()\n",
      "\u001b[36mFile \u001b[39m\u001b[32md:\\!Projects\\Python\\!AI & ML\\DL\\.DL\\Lib\\site-packages\\torch\\nn\\modules\\conv.py:554\u001b[39m, in \u001b[36mConv2d.forward\u001b[39m\u001b[34m(self, input)\u001b[39m\n\u001b[32m    553\u001b[39m \u001b[38;5;28;01mdef\u001b[39;00m\u001b[38;5;250m \u001b[39m\u001b[34mforward\u001b[39m(\u001b[38;5;28mself\u001b[39m, \u001b[38;5;28minput\u001b[39m: Tensor) -> Tensor:\n\u001b[32m--> \u001b[39m\u001b[32m554\u001b[39m     \u001b[38;5;28;01mreturn\u001b[39;00m \u001b[38;5;28;43mself\u001b[39;49m\u001b[43m.\u001b[49m\u001b[43m_conv_forward\u001b[49m\u001b[43m(\u001b[49m\u001b[38;5;28;43minput\u001b[39;49m\u001b[43m,\u001b[49m\u001b[43m \u001b[49m\u001b[38;5;28;43mself\u001b[39;49m\u001b[43m.\u001b[49m\u001b[43mweight\u001b[49m\u001b[43m,\u001b[49m\u001b[43m \u001b[49m\u001b[38;5;28;43mself\u001b[39;49m\u001b[43m.\u001b[49m\u001b[43mbias\u001b[49m\u001b[43m)\u001b[49m\n",
      "\u001b[36mFile \u001b[39m\u001b[32md:\\!Projects\\Python\\!AI & ML\\DL\\.DL\\Lib\\site-packages\\torch\\nn\\modules\\conv.py:549\u001b[39m, in \u001b[36mConv2d._conv_forward\u001b[39m\u001b[34m(self, input, weight, bias)\u001b[39m\n\u001b[32m    537\u001b[39m \u001b[38;5;28;01mif\u001b[39;00m \u001b[38;5;28mself\u001b[39m.padding_mode != \u001b[33m\"\u001b[39m\u001b[33mzeros\u001b[39m\u001b[33m\"\u001b[39m:\n\u001b[32m    538\u001b[39m     \u001b[38;5;28;01mreturn\u001b[39;00m F.conv2d(\n\u001b[32m    539\u001b[39m         F.pad(\n\u001b[32m    540\u001b[39m             \u001b[38;5;28minput\u001b[39m, \u001b[38;5;28mself\u001b[39m._reversed_padding_repeated_twice, mode=\u001b[38;5;28mself\u001b[39m.padding_mode\n\u001b[32m   (...)\u001b[39m\u001b[32m    547\u001b[39m         \u001b[38;5;28mself\u001b[39m.groups,\n\u001b[32m    548\u001b[39m     )\n\u001b[32m--> \u001b[39m\u001b[32m549\u001b[39m \u001b[38;5;28;01mreturn\u001b[39;00m \u001b[43mF\u001b[49m\u001b[43m.\u001b[49m\u001b[43mconv2d\u001b[49m\u001b[43m(\u001b[49m\n\u001b[32m    550\u001b[39m \u001b[43m    \u001b[49m\u001b[38;5;28;43minput\u001b[39;49m\u001b[43m,\u001b[49m\u001b[43m \u001b[49m\u001b[43mweight\u001b[49m\u001b[43m,\u001b[49m\u001b[43m \u001b[49m\u001b[43mbias\u001b[49m\u001b[43m,\u001b[49m\u001b[43m \u001b[49m\u001b[38;5;28;43mself\u001b[39;49m\u001b[43m.\u001b[49m\u001b[43mstride\u001b[49m\u001b[43m,\u001b[49m\u001b[43m \u001b[49m\u001b[38;5;28;43mself\u001b[39;49m\u001b[43m.\u001b[49m\u001b[43mpadding\u001b[49m\u001b[43m,\u001b[49m\u001b[43m \u001b[49m\u001b[38;5;28;43mself\u001b[39;49m\u001b[43m.\u001b[49m\u001b[43mdilation\u001b[49m\u001b[43m,\u001b[49m\u001b[43m \u001b[49m\u001b[38;5;28;43mself\u001b[39;49m\u001b[43m.\u001b[49m\u001b[43mgroups\u001b[49m\n\u001b[32m    551\u001b[39m \u001b[43m\u001b[49m\u001b[43m)\u001b[49m\n",
      "\u001b[31mRuntimeError\u001b[39m: expected scalar type Byte but found Float"
     ]
    }
   ],
   "source": [
    "# Reusing the layers extracted from the section above, remember to run those cells!\n",
    "convolved_input = [\n",
    "    layers_50[1](layers_50[0](lowpass_filtered_image)).detach(),\n",
    "    layers_100[1](layers_100[0](lowpass_filtered_image)).detach()\n",
    "]\n",
    "\n",
    "fig = plt.figure(figsize=(10, 10))\n",
    "subfigs = fig.subfigures(2, 1)\n",
    "subfigs[0].suptitle('conv_net_50p')\n",
    "subfigs[1].suptitle('conv_net_100p')\n",
    "\n",
    "draw_filters(lowpass_filtered_image, convolved_input[0], subfigs[0])\n",
    "draw_filters(lowpass_filtered_image, convolved_input[1], subfigs[1])"
   ]
  },
  {
   "cell_type": "code",
   "execution_count": 88,
   "metadata": {},
   "outputs": [
    {
     "name": "stdout",
     "output_type": "stream",
     "text": [
      "50 Perceptron Model\n",
      "Output Values:\n",
      "    tensor([[-1.1445,  1.7169, -0.5991,  1.4583, -1.1786,  0.9196, -1.0291,  0.3906,\n",
      "          1.0246,  0.1359]])\n",
      "Predicted Probabilities:\n",
      "    tensor([[0.0165, 0.2882, 0.0284, 0.2225, 0.0159, 0.1298, 0.0185, 0.0765, 0.1442,\n",
      "         0.0593]])\n",
      "Prediction: 1\n",
      "\n",
      "100 Perceptron Model\n",
      "Output Values:\n",
      "    tensor([[-1.6250,  1.3713, -0.1010,  3.4484, -3.5254,  1.3702, -2.5210,  0.9204,\n",
      "          0.3251, -0.5669]])\n",
      "Predicted Probabilities:\n",
      "    tensor([[4.3760e-03, 8.7569e-02, 2.0088e-02, 6.9890e-01, 6.5425e-04, 8.7470e-02,\n",
      "         1.7862e-03, 5.5787e-02, 3.0760e-02, 1.2606e-02]])\n",
      "Prediction: 3\n"
     ]
    }
   ],
   "source": [
    "softmax = nn.Softmax(1)\n",
    "\n",
    "# unsqueeze to pass the image in as a batch rather than sample\n",
    "predict_vals = (\n",
    "    conv_net_50p(lowpass_filtered_image.unsqueeze(0)).detach(),\n",
    "    conv_net_100p(lowpass_filtered_image.unsqueeze(0)).detach(),\n",
    ")\n",
    "predict_probs = (\n",
    "    softmax(predict_vals[0]),\n",
    "    softmax(predict_vals[1]),\n",
    ")\n",
    "prediction = (\n",
    "    predict_probs[0].argmax().item(),\n",
    "    predict_probs[1].argmax().item(),\n",
    ")\n",
    "\n",
    "print('50 Perceptron Model')\n",
    "print(f\"\"\"Output Values:\n",
    "    {predict_vals[0]}\n",
    "Predicted Probabilities:\n",
    "    {predict_probs[0]}\n",
    "Prediction: {prediction[0]}\"\"\")\n",
    "\n",
    "print('\\n100 Perceptron Model')\n",
    "print(f\"\"\"Output Values:\n",
    "    {predict_vals[1]}\n",
    "Predicted Probabilities:\n",
    "    {predict_probs[1]}\n",
    "Prediction: {prediction[1]}\"\"\")"
   ]
  },
  {
   "cell_type": "markdown",
   "metadata": {},
   "source": [
    "#"
   ]
  },
  {
   "cell_type": "markdown",
   "metadata": {},
   "source": [
    "Of course, the models are for demonstrative purposes and will not be very good at the classification tasks. Also, the technique of downsamping the image with a low-pass filter is not always desirable and thus will lose valuable information.\\\n",
    "However, the one major thing to notice is that images in MNIST are centered. When the models try to classify an image of digit being slightly off-center, the models will not do this very well simply because they have never encountered such a case and hence does not have any filters to detect the off-center details in the image. This either means we need to collect more data or, in a lazier way, **augment** the dataset.\n",
    "\n",
    "Augmentation involves using images available in the dataset to create new images by forms of rotations, transformations in both the color domain and spatial domain, adding random noises, etc."
   ]
  }
 ],
 "metadata": {
  "kernelspec": {
   "display_name": ".DL",
   "language": "python",
   "name": "python3"
  },
  "language_info": {
   "codemirror_mode": {
    "name": "ipython",
    "version": 3
   },
   "file_extension": ".py",
   "mimetype": "text/x-python",
   "name": "python",
   "nbconvert_exporter": "python",
   "pygments_lexer": "ipython3",
   "version": "3.13.2"
  }
 },
 "nbformat": 4,
 "nbformat_minor": 2
}
