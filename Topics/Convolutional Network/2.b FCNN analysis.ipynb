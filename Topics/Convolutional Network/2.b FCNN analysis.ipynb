{
 "cells": [
  {
   "cell_type": "markdown",
   "metadata": {},
   "source": [
    "In the last section, we have defined a Fully Convolutional Neural Network to represent the same CNN defined in section 1.a and 1.b.\\\n",
    "However, we still haven't discussed how this FCNN can receive an image of arbitrary size."
   ]
  },
  {
   "cell_type": "code",
   "execution_count": 2,
   "metadata": {},
   "outputs": [],
   "source": [
    "import torch\n",
    "import torchvision\n",
    "\n",
    "from torch import nn\n",
    "from torchvision.datasets import MNIST\n",
    "from torchvision.transforms import ToTensor, Grayscale\n",
    "\n",
    "import matplotlib.pyplot as plt"
   ]
  },
  {
   "cell_type": "code",
   "execution_count": 3,
   "metadata": {},
   "outputs": [],
   "source": [
    "import sys\n",
    "sys.path.append('../..')\n",
    "\n",
    "from CustomDL.utils import draw_filters"
   ]
  },
  {
   "cell_type": "markdown",
   "metadata": {},
   "source": [
    "# Load MNIST and pretrained model"
   ]
  },
  {
   "cell_type": "code",
   "execution_count": 4,
   "metadata": {},
   "outputs": [],
   "source": [
    "digits_dataset = MNIST(\n",
    "    root='../../data',\n",
    "    download=True,\n",
    "    transform=ToTensor()\n",
    ")"
   ]
  },
  {
   "cell_type": "code",
   "execution_count": 5,
   "metadata": {},
   "outputs": [
    {
     "data": {
      "text/plain": [
       "dict_keys(['train_params', 'loss', 'accuracy', 'model', 'optimizer'])"
      ]
     },
     "execution_count": 5,
     "metadata": {},
     "output_type": "execute_result"
    }
   ],
   "source": [
    "params = torch.load('./output/fcnn.pth', map_location='cpu', weights_only=False)\n",
    "params.keys()"
   ]
  },
  {
   "cell_type": "code",
   "execution_count": 6,
   "metadata": {},
   "outputs": [
    {
     "data": {
      "text/plain": [
       "FCNN(\n",
       "  (layers): Sequential(\n",
       "    (0): ConvLayer(\n",
       "      (layers): Sequential(\n",
       "        (0): Conv2d(1, 4, kernel_size=(3, 3), stride=(1, 1))\n",
       "        (1): ReLU()\n",
       "        (2): MaxPool2d(kernel_size=2, stride=2, padding=0, dilation=1, ceil_mode=False)\n",
       "      )\n",
       "    )\n",
       "    (1): ConvLayer(\n",
       "      (layers): Sequential(\n",
       "        (0): Conv2d(4, 9, kernel_size=(3, 3), stride=(1, 1))\n",
       "        (1): ReLU()\n",
       "        (2): MaxPool2d(kernel_size=2, stride=2, padding=0, dilation=1, ceil_mode=False)\n",
       "      )\n",
       "    )\n",
       "    (2): ConvLayer(\n",
       "      (layers): Sequential(\n",
       "        (0): Conv2d(9, 100, kernel_size=(5, 5), stride=(1, 1))\n",
       "        (1): ReLU()\n",
       "      )\n",
       "    )\n",
       "    (3): ConvLayer(\n",
       "      (layers): Sequential(\n",
       "        (0): Conv2d(100, 100, kernel_size=(1, 1), stride=(1, 1))\n",
       "        (1): ReLU()\n",
       "      )\n",
       "    )\n",
       "    (4): ConvLayer(\n",
       "      (layers): Sequential(\n",
       "        (0): Conv2d(100, 10, kernel_size=(1, 1), stride=(1, 1))\n",
       "      )\n",
       "    )\n",
       "  )\n",
       ")"
      ]
     },
     "execution_count": 6,
     "metadata": {},
     "output_type": "execute_result"
    }
   ],
   "source": [
    "from typing import Optional\n",
    "class ConvLayer(nn.Module):\n",
    "    def __init__(self,\n",
    "        in_chans: int,\n",
    "        out_chans: int,\n",
    "        kern_size: int,\n",
    "        activation_fn: Optional[nn.Module] = None,\n",
    "        pooling_layer: Optional[nn.Module] = None\n",
    "    ):\n",
    "        super().__init__()\n",
    "\n",
    "        self.layers = nn.Sequential(\n",
    "            nn.Conv2d(\n",
    "                in_channels=in_chans,\n",
    "                out_channels=out_chans,\n",
    "                kernel_size=kern_size\n",
    "            )\n",
    "        )\n",
    "        if not activation_fn is None:\n",
    "            self.layers.add_module('1', activation_fn)\n",
    "        if not pooling_layer is None:\n",
    "            self.layers.add_module('2', pooling_layer)\n",
    "\n",
    "    def forward(self, input):\n",
    "        return self.layers(input)\n",
    "    \n",
    "class FCNN(nn.Module):\n",
    "    def __init__(self):\n",
    "        super().__init__()\n",
    "\n",
    "        self.layers = nn.Sequential(\n",
    "            ConvLayer(1, 4, 3, nn.ReLU(), nn.MaxPool2d(2)),\n",
    "            ConvLayer(4, 9, 3, nn.ReLU(), nn.MaxPool2d(2)),\n",
    "\n",
    "            ConvLayer(9, 100, 5, nn.ReLU()),\n",
    "            ConvLayer(100, 100, 1, nn.ReLU()),\n",
    "            ConvLayer(100, 10, 1)\n",
    "        )\n",
    "    \n",
    "    def forward(self, one_chan_image):\n",
    "        # NOTE: we did not flatten the output at all and this is desirable!\n",
    "        return self.layers(one_chan_image)\n",
    "    \n",
    "fcnn = FCNN()\n",
    "fcnn.load_state_dict(params['model'])\n",
    "layers = list(fcnn.layers.children())\n",
    "fcnn.eval()"
   ]
  },
  {
   "cell_type": "markdown",
   "metadata": {},
   "source": [
    "# Interpreting the model"
   ]
  },
  {
   "cell_type": "markdown",
   "metadata": {},
   "source": [
    "## Kernels of the first layer"
   ]
  },
  {
   "cell_type": "code",
   "execution_count": 14,
   "metadata": {},
   "outputs": [],
   "source": [
    "import math\n",
    "\n",
    "def draw_filter_weights(filter_weights, cmap = 'gray_r', fig=None):\n",
    "    filter_weights = filter_weights.permute((0, 2, 3, 1))\n",
    "    rows = round(math.sqrt(filter_weights.shape[0]))\n",
    "    cols = int(math.ceil(filter_weights.shape[0] / rows))\n",
    "    layout = []\n",
    "    ax_rows = []\n",
    "    for i in range(filter_weights.shape[0]):\n",
    "        ax_rows.append(i)\n",
    "        if len(ax_rows) == cols:\n",
    "            layout.append(ax_rows)\n",
    "            ax_rows = []\n",
    "    if 0 < len(ax_rows) < cols:\n",
    "        missing = cols - len(ax_rows)\n",
    "        ax_rows.extend(('.' for _ in range(missing)))\n",
    "        layout.append(ax_rows)\n",
    "    \n",
    "    if fig is None:\n",
    "        fig = plt.figure()\n",
    "    axes = fig.subplot_mosaic(layout)\n",
    "\n",
    "    for i in range(filter_weights.shape[0]):\n",
    "        axes[i].set_title(f'Filter {i}')\n",
    "        axes[i].imshow(filter_weights[i], cmap=cmap)\n",
    "        axes[i].set_xticks([])\n",
    "        axes[i].set_yticks([])\n",
    "    return fig"
   ]
  },
  {
   "cell_type": "code",
   "execution_count": 16,
   "metadata": {},
   "outputs": [
    {
     "data": {
      "image/png": "[encoded data removed]",
      "text/plain": [
       "<Figure size 640x480 with 4 Axes>"
      ]
     },
     "metadata": {},
     "output_type": "display_data"
    }
   ],
   "source": [
    "kernels = params['model']['layers.0.layers.0.weight']\n",
    "\n",
    "draw_filter_weights(kernels);"
   ]
  },
  {
   "cell_type": "markdown",
   "metadata": {},
   "source": [
    "## Inference on 28x28 images"
   ]
  },
  {
   "cell_type": "code",
   "execution_count": 16,
   "metadata": {},
   "outputs": [
    {
     "data": {
      "text/plain": [
       "torch.Size([1, 28, 28])"
      ]
     },
     "execution_count": 16,
     "metadata": {},
     "output_type": "execute_result"
    }
   ],
   "source": [
    "number = 9\n",
    "indices = (digits_dataset.targets == number).argwhere()\n",
    "\n",
    "sample_image = digits_dataset[indices[5].item()][0]\n",
    "sample_image.shape"
   ]
  },
  {
   "cell_type": "code",
   "execution_count": 17,
   "metadata": {},
   "outputs": [
    {
     "data": {
      "image/png": "[encoded data removed]",
      "text/plain": [
       "<Figure size 900x400 with 10 Axes>"
      ]
     },
     "metadata": {},
     "output_type": "display_data"
    }
   ],
   "source": [
    "convoled_input = layers[1](layers[0](sample_image)).detach()\n",
    "\n",
    "fig = plt.figure(figsize=(9, 4))\n",
    "draw_filters(sample_image, convoled_input, fig=fig);"
   ]
  },
  {
   "cell_type": "code",
   "execution_count": 18,
   "metadata": {},
   "outputs": [
    {
     "name": "stdout",
     "output_type": "stream",
     "text": [
      "Output values:\n",
      "    tensor([-2.8706, -9.0293, -2.8511,  0.2818,  4.6117,  1.1297, -7.2462,  5.3792,\n",
      "         0.7285,  8.6214])\n",
      "Probabilities:\n",
      "    tensor([9.6479e-06, 2.0406e-08, 9.8380e-06, 2.2568e-04, 1.7137e-02, 5.2692e-04,\n",
      "        1.2137e-07, 3.6924e-02, 3.5277e-04, 9.4481e-01])\n",
      "Prediction: 9\n"
     ]
    }
   ],
   "source": [
    "# Fun fact: because of the nature of FCNN, you can indeed pass in a sample here and\n",
    "# still get the resutl of same shape\n",
    "pred_vals = fcnn(sample_image.unsqueeze(0)).detach().squeeze()\n",
    "probs = nn.functional.softmax(pred_vals, 0)\n",
    "prediction = probs.argmax(0).item()\n",
    "\n",
    "print(f\"\"\"Output values:\n",
    "    {pred_vals}\n",
    "Probabilities:\n",
    "    {probs}\n",
    "Prediction: {prediction}\"\"\")"
   ]
  },
  {
   "cell_type": "markdown",
   "metadata": {},
   "source": [
    "This FCNN works the same way as the CNN for 28x28 images. Now we move on to images of different size."
   ]
  },
  {
   "cell_type": "markdown",
   "metadata": {},
   "source": [
    "## Inference on arbitrary images"
   ]
  },
  {
   "cell_type": "code",
   "execution_count": 19,
   "metadata": {},
   "outputs": [],
   "source": [
    "grayscaler = Grayscale()"
   ]
  },
  {
   "cell_type": "code",
   "execution_count": 59,
   "metadata": {},
   "outputs": [
    {
     "name": "stdout",
     "output_type": "stream",
     "text": [
      "torch.Size([1, 30, 30])\n"
     ]
    },
    {
     "data": {
      "image/png": "[encoded data removed]",
      "text/plain": [
       "<Figure size 640x480 with 1 Axes>"
      ]
     },
     "metadata": {},
     "output_type": "display_data"
    }
   ],
   "source": [
    "image = torchvision.io.read_image('./data/test_img/num5.3.png')\n",
    "image = (255 - grayscaler(image[:3])) / 255\n",
    "\n",
    "print(image.shape)\n",
    "plt.imshow(image.permute((1, 2, 0)), cmap='gray_r')\n",
    "plt.axis('off');"
   ]
  },
  {
   "cell_type": "code",
   "execution_count": 60,
   "metadata": {},
   "outputs": [
    {
     "data": {
      "text/plain": [
       "torch.Size([1, 10, 2, 2])"
      ]
     },
     "execution_count": 60,
     "metadata": {},
     "output_type": "execute_result"
    }
   ],
   "source": [
    "outputs = fcnn(image.unsqueeze(0)).detach()\n",
    "outputs.shape"
   ]
  },
  {
   "cell_type": "markdown",
   "metadata": {},
   "source": [
    "Note that the output shape is (..., **10**, 2, 2)\n",
    "\n",
    "The number 10 in this case still represents our 10 digit classes.\\\n",
    "The other dimension actually comes from us applying the final three convolutional layers on the image.\n",
    "\n",
    "Let us then first look at the 4 filters after the first two convolutional layers."
   ]
  },
  {
   "cell_type": "code",
   "execution_count": 61,
   "metadata": {},
   "outputs": [
    {
     "data": {
      "image/png": "[encoded data removed]",
      "text/plain": [
       "<Figure size 900x500 with 10 Axes>"
      ]
     },
     "metadata": {},
     "output_type": "display_data"
    }
   ],
   "source": [
    "convoled_input = layers[1](layers[0](image)).detach()\n",
    "\n",
    "fig = plt.figure(figsize=(9, 5))\n",
    "draw_filters(image, convoled_input, fig=fig);"
   ]
  },
  {
   "cell_type": "markdown",
   "metadata": {},
   "source": [
    "So what is the reason to have the extra dimensions? We analyze layer-by-layer the shape of the image:\n",
    "\n",
    "**ConvLayer (1)**\\\n",
    "&nbsp;&nbsp;&nbsp;&nbsp;\n",
    "The original image has the shape (1, 30, 30). We apply a convolution using a (3, 3) kernel with stride of 1, from which results in a 32-channel image of shape (28, 28). Then we max pool this with a window size of (2, 2) which results in a (32, 14, 14) image.\\\n",
    "However, if we look at a 13x13 section of the output, say the top 13x13 section, we see the section to be exactly the same as if we first cropped out the top 28x28 section of the original image and then applied the convolutions. Then, if we shift the section by one pixel to the right, we see this section to correspond to the top 28x28 section shifted 2 pixels to the right in the original image. This stride of 2 in the original image comes from the fact that we are max pooling the output with a stride of 2.\n",
    "\n",
    "**ConvLayer (2)**\\\n",
    "&nbsp;&nbsp;&nbsp;&nbsp;\n",
    "Likewise, after convolving the output of the previous layer, we obtain a (32, 12, 12) image. Max pooling the image with a (2, 2) window results in (32, 6, 6) image.\\\n",
    "Similarly, if we think in terms of applying this convolutional layer to 11x11 windowed sections of the (32, 14, 14) input and shifting the window by 2 pixels every time we apply the convolutional layer, we will obtain (32, 5, 5) outputs that correspond to 5x5 windowed sections of the (32, 6, 6) image with stride of 1.\n",
    "\n",
    "**ConvLayer (3)**\\\n",
    "&nbsp;&nbsp;&nbsp;&nbsp;\n",
    "We then apply a convolution using a (5, 5) kernel with stride of 1. This then results in a (100, 2, 2) image.\n",
    "\n",
    "\n",
    "**ConvLayer (4)** and **ConvLayer (5)**\\\n",
    "&nbsp;&nbsp;&nbsp;&nbsp;\n",
    "Finally, the (100, 2, 2) image get passed through two more layers, from which we obtain the (10, 2, 2) output.\n",
    "\n",
    "---\n",
    "\n",
    "Compared to the case of 28x28 images. We notice that every output of the first two convolutional layers always ends up being 1 pixel larger in the height and width dimension.\\\n",
    "Furthermore, we can notice that each of the cell index by the second and third dimension of the final output would correspond to the output of us feeding the corresponding 28x28 windowed section of the original image through the network. For example, the cell at the (0, 0), indexed as `output[:, 0, 0]` represents the prediction for the top left 28x28 section of the original image.\\\n",
    "For ease of reference, we will refer to these sections as windows."
   ]
  },
  {
   "cell_type": "code",
   "execution_count": 62,
   "metadata": {},
   "outputs": [
    {
     "name": "stdout",
     "output_type": "stream",
     "text": [
      "tensor([-4.8289, -3.5960, -3.6098,  3.9298, -0.2913,  7.7015, -4.3160, -6.5854,\n",
      "         7.0117,  2.2304])\n",
      "tensor([-4.8289, -3.5960, -3.6098,  3.9298, -0.2913,  7.7015, -4.3160, -6.5854,\n",
      "         7.0117,  2.2304])\n"
     ]
    }
   ],
   "source": [
    "equiv_res = fcnn(image[:, :28, :28].unsqueeze(0)).detach().squeeze()\n",
    "\n",
    "print(outputs[0, :, 0, 0])\n",
    "print(equiv_res)"
   ]
  },
  {
   "cell_type": "markdown",
   "metadata": {},
   "source": [
    "With that in mind, a question is how do we determine a prediction for the image?\n",
    "\n",
    "Given that we know there can only be one digit per image (as we are doing a single-label classification task), we need to combine the outputs in some way. Here are something we can try:\n",
    "- Sum up/average the outputs across all windows\n",
    "- Make a prediction for each windows, base on which we choose the label with the most guess or highest probabilities."
   ]
  },
  {
   "cell_type": "code",
   "execution_count": 63,
   "metadata": {},
   "outputs": [],
   "source": [
    "pred_probs = nn.functional.softmax(outputs, 1)[0]"
   ]
  },
  {
   "cell_type": "code",
   "execution_count": 64,
   "metadata": {},
   "outputs": [
    {
     "name": "stdout",
     "output_type": "stream",
     "text": [
      "Average 'probabilities' across windows:\n",
      "\ttensor([3.3074e-01, 3.7819e-03, 9.2745e-01, 4.3807e-01, 4.9962e-04, 1.7738e+00,\n",
      "        5.2465e-04, 2.4993e-02, 4.9485e-01, 5.2799e-03])\n",
      "Prediction: 5\n"
     ]
    }
   ],
   "source": [
    "result = pred_probs.flatten(1).sum(dim=1)\n",
    "\n",
    "print(f\"Average 'probabilities' across windows:\\n\\t{result}\")\n",
    "print(f\"Prediction: {result.argmax()}\")"
   ]
  },
  {
   "cell_type": "code",
   "execution_count": 65,
   "metadata": {},
   "outputs": [
    {
     "name": "stdout",
     "output_type": "stream",
     "text": [
      "Maximum 'probabilities' for each window:\n",
      "\ttensor([0.6539, 0.5763, 0.5197, 0.9205])\n",
      "Corresponding labels:\n",
      "\ttensor([5, 5, 5, 2])\n",
      "Prediction: 5\n"
     ]
    }
   ],
   "source": [
    "result = pred_probs.flatten(1).max(dim=0)\n",
    "prediction = max((i for i in result.indices.unique()), key=lambda i: sum(result.indices == i))\n",
    "\n",
    "print(f\"Maximum 'probabilities' for each window:\\n\\t{result.values}\")\n",
    "print(f\"Corresponding labels:\\n\\t{result.indices}\")\n",
    "print(f\"Prediction: {prediction}\")"
   ]
  },
  {
   "cell_type": "markdown",
   "metadata": {},
   "source": [
    "Base on this, we would choose the label '5'."
   ]
  },
  {
   "cell_type": "code",
   "execution_count": null,
   "metadata": {},
   "outputs": [
    {
     "data": {
      "image/png": "[encoded data removed]",
      "text/plain": [
       "<Figure size 900x500 with 10 Axes>"
      ]
     },
     "metadata": {},
     "output_type": "display_data"
    }
   ],
   "source": [
    "image = torchvision.io.read_image('./data/test_img/num8.png')\n",
    "image = (255 - grayscaler(image[:3])) / 255\n",
    "convoled_input = layers[1](layers[0](image)).detach()\n",
    "\n",
    "fig = plt.figure(figsize=(9, 5))\n",
    "draw_filters(image, convoled_input, fig=fig);"
   ]
  },
  {
   "cell_type": "code",
   "execution_count": 58,
   "metadata": {},
   "outputs": [
    {
     "name": "stdout",
     "output_type": "stream",
     "text": [
      "Maximum 'probabilities' for each window:\n",
      "\ttensor([0.1261, 0.1261, 0.1261,  ..., 0.1261, 0.1261, 0.1261])\n",
      "Corresponding labels:\n",
      "\ttensor([1, 1, 1,  ..., 1, 1, 1])\n",
      "Prediction: 1\n"
     ]
    }
   ],
   "source": [
    "outputs = fcnn(image.unsqueeze(0)).detach()\n",
    "pred_probs = nn.functional.softmax(outputs, 1)[0]\n",
    "result = pred_probs.flatten(1).max(dim=0)\n",
    "prediction = max((i for i in result.indices.unique()), key=lambda i: sum(result.indices == i))\n",
    "\n",
    "print(f\"Maximum 'probabilities' for each window:\\n\\t{result.values}\")\n",
    "print(f\"Corresponding labels:\\n\\t{result.indices}\")\n",
    "print(f\"Prediction: {prediction}\")"
   ]
  },
  {
   "cell_type": "markdown",
   "metadata": {},
   "source": [
    "#"
   ]
  },
  {
   "cell_type": "markdown",
   "metadata": {},
   "source": [
    "From this section, we see that another alternative to transforming the image is to rather use the CNN to predict on sections of the image. And we did this implicitly by using a Fully Convolutional Network.\\\n",
    "However, if the digit cannot be contained within a single 28x28 section, the network of course can not predict accurately."
   ]
  }
 ],
 "metadata": {
  "kernelspec": {
   "display_name": ".DL",
   "language": "python",
   "name": "python3"
  },
  "language_info": {
   "codemirror_mode": {
    "name": "ipython",
    "version": 3
   },
   "file_extension": ".py",
   "mimetype": "text/x-python",
   "name": "python",
   "nbconvert_exporter": "python",
   "pygments_lexer": "ipython3",
   "version": "3.13.2"
  }
 },
 "nbformat": 4,
 "nbformat_minor": 2
}
