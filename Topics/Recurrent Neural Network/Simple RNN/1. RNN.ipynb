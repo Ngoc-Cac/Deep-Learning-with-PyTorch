{
 "cells": [
  {
   "cell_type": "code",
   "execution_count": 1,
   "id": "6e97ec9b",
   "metadata": {},
   "outputs": [],
   "source": [
    "import sys\n",
    "sys.path.append('../../..')"
   ]
  },
  {
   "cell_type": "code",
   "execution_count": null,
   "id": "ce720429",
   "metadata": {},
   "outputs": [],
   "source": [
    "import matplotlib.pyplot as plt\n",
    "import torch\n",
    "\n",
    "from torch import nn\n",
    "from torch.utils.data import DataLoader, Dataset, Subset\n",
    "\n",
    "from rnn import RNN\n",
    "from CustomDL.loops.regression import train_loop, test_loop\n",
    "\n",
    "torch.seed(0)"
   ]
  },
  {
   "cell_type": "markdown",
   "id": "c97cf2a2",
   "metadata": {},
   "source": [
    "# Setup"
   ]
  },
  {
   "cell_type": "code",
   "execution_count": 3,
   "id": "d09a2df7",
   "metadata": {},
   "outputs": [],
   "source": [
    "def run_epochs(\n",
    "    epochs,\n",
    "    model, loss_fn, optimizer,\n",
    "    train_loader, test_loader,\n",
    "    use_gpu: bool = False\n",
    ") -> dict:\n",
    "    loss = {\n",
    "        'train': [],\n",
    "        'eval': []\n",
    "    }\n",
    "    for epoch in range(1, epochs + 1):\n",
    "        print(f\"{epoch}/{epochs}\")\n",
    "        train_loss = train_loop(\n",
    "            model, train_loader,\n",
    "            loss_fn, optimizer, True,\n",
    "            use_gpu=use_gpu\n",
    "        )\n",
    "        loss['train'].append(sum(train_loss) / len(train_loss))\n",
    "        print(f\"  Average Training Loss: {loss['train'][-1]:.6f}\")\n",
    "\n",
    "        eval_loss = test_loop(\n",
    "            model, test_loader, loss_fn,\n",
    "            use_gpu=use_gpu\n",
    "        )\n",
    "        loss['eval'].append(eval_loss)\n",
    "        print(f\"  Average Eval Loss: {loss['eval'][-1]:.6f}\")\n",
    "    \n",
    "    return loss"
   ]
  },
  {
   "cell_type": "markdown",
   "id": "120ba538",
   "metadata": {},
   "source": [
    "# Synthesizing Sequential Data"
   ]
  },
  {
   "cell_type": "code",
   "execution_count": 4,
   "id": "cde1360e",
   "metadata": {},
   "outputs": [
    {
     "data": {
      "image/png": "[encoded data removed]",
      "text/plain": [
       "<Figure size 640x480 with 1 Axes>"
      ]
     },
     "metadata": {},
     "output_type": "display_data"
    }
   ],
   "source": [
    "sampling_rate = 1000\n",
    "total_secs = 5\n",
    "\n",
    "x = torch.linspace(0, total_secs, sampling_rate * total_secs)\n",
    "wave = torch.cos(torch.pi * x) / (x + 1) + 0.05 * torch.cos(2 * torch.pi * x * 5)\n",
    "\n",
    "plt.plot(wave);"
   ]
  },
  {
   "cell_type": "code",
   "execution_count": 5,
   "id": "cf63626e",
   "metadata": {},
   "outputs": [],
   "source": [
    "class WaveDataset(Dataset):\n",
    "    def __init__(self,\n",
    "        wave: torch.Tensor,\n",
    "        lag_duration: int\n",
    "    ):\n",
    "        super().__init__()\n",
    "        self._wave = wave.unsqueeze(1)\n",
    "        self._lag_dur = lag_duration\n",
    "        self._total_seq = self._wave.shape[0] - self._lag_dur\n",
    "    \n",
    "    def __len__(self) -> int:\n",
    "        return self._total_seq\n",
    "    def __getitem__(self, index):\n",
    "        if index < 0:\n",
    "            raise IndexError(\"Only support non-negative index\")\n",
    "        elif index > len(self):\n",
    "            raise IndexError(f\"Index out of range for length {len(self)}\")\n",
    "        return (\n",
    "            self._wave[index : index + self._lag_dur],\n",
    "            self._wave[index + self._lag_dur]\n",
    "        )"
   ]
  },
  {
   "cell_type": "code",
   "execution_count": 6,
   "id": "1082a49e",
   "metadata": {},
   "outputs": [],
   "source": [
    "dataset = WaveDataset(wave, 3)\n",
    "\n",
    "train_idx = torch.arange(0, len(dataset) * .8, dtype=torch.int32)\n",
    "test_idx = torch.arange(train_idx[-1] + 1, len(dataset))\n",
    "\n",
    "train_set = Subset(dataset, train_idx)\n",
    "test_set = Subset(dataset, test_idx)"
   ]
  },
  {
   "cell_type": "code",
   "execution_count": 7,
   "id": "63fda0fc",
   "metadata": {},
   "outputs": [],
   "source": [
    "batch_size = 32\n",
    "\n",
    "train_loader = DataLoader(train_set, batch_size, True)\n",
    "test_loader = DataLoader(test_set, batch_size, True)"
   ]
  },
  {
   "cell_type": "markdown",
   "id": "2c4e9a2a",
   "metadata": {},
   "source": [
    "# Predicting the curve"
   ]
  },
  {
   "cell_type": "markdown",
   "id": "c0cfcf34",
   "metadata": {},
   "source": [
    "Let's build a simple MLP model to predict the sequential data. Because the model be given dimensions to initialize the weights and biases, we will let the lag duration be 3. That is, the model will be given ahead three samples to predict the next sample. "
   ]
  },
  {
   "cell_type": "code",
   "execution_count": 25,
   "id": "26dc9bb6",
   "metadata": {},
   "outputs": [],
   "source": [
    "mlp_model = nn.Sequential(\n",
    "    nn.Flatten(),\n",
    "    nn.Linear(3, 32),\n",
    "    nn.ReLU(),\n",
    "    nn.Linear(32, 32),\n",
    "    nn.ReLU(),\n",
    "    nn.Linear(32, 1)\n",
    ")\n",
    "if torch.cuda.is_available():\n",
    "    mlp_model.cuda()\n",
    "\n",
    "mse_loss = nn.MSELoss()\n",
    "optimizer = torch.optim.Adam(mlp_model.parameters(), 1e-5)\n",
    "\n",
    "global_loss = {\n",
    "    'train': [],\n",
    "    'eval': []\n",
    "}"
   ]
  },
  {
   "cell_type": "code",
   "execution_count": 35,
   "id": "891d114a",
   "metadata": {},
   "outputs": [
    {
     "name": "stdout",
     "output_type": "stream",
     "text": [
      "1/10\n"
     ]
    },
    {
     "name": "stderr",
     "output_type": "stream",
     "text": [
      "100%|██████████| 125/125 [00:00<00:00, 167.17it/s, loss=6.873883830849081e-05] \n"
     ]
    },
    {
     "name": "stdout",
     "output_type": "stream",
     "text": [
      "  Average Training Loss: 0.000098\n",
      "  Average Eval Loss: 0.000079\n",
      "2/10\n"
     ]
    },
    {
     "name": "stderr",
     "output_type": "stream",
     "text": [
      "100%|██████████| 125/125 [00:00<00:00, 190.39it/s, loss=7.602059486089274e-05] \n"
     ]
    },
    {
     "name": "stdout",
     "output_type": "stream",
     "text": [
      "  Average Training Loss: 0.000089\n",
      "  Average Eval Loss: 0.000071\n",
      "3/10\n"
     ]
    },
    {
     "name": "stderr",
     "output_type": "stream",
     "text": [
      "100%|██████████| 125/125 [00:00<00:00, 182.55it/s, loss=5.4419509979197755e-05]\n"
     ]
    },
    {
     "name": "stdout",
     "output_type": "stream",
     "text": [
      "  Average Training Loss: 0.000080\n",
      "  Average Eval Loss: 0.000062\n",
      "4/10\n"
     ]
    },
    {
     "name": "stderr",
     "output_type": "stream",
     "text": [
      "100%|██████████| 125/125 [00:00<00:00, 176.68it/s, loss=6.964463682379574e-05] \n"
     ]
    },
    {
     "name": "stdout",
     "output_type": "stream",
     "text": [
      "  Average Training Loss: 0.000073\n",
      "  Average Eval Loss: 0.000055\n",
      "5/10\n"
     ]
    },
    {
     "name": "stderr",
     "output_type": "stream",
     "text": [
      "100%|██████████| 125/125 [00:00<00:00, 156.42it/s, loss=7.227209425764158e-05] \n"
     ]
    },
    {
     "name": "stdout",
     "output_type": "stream",
     "text": [
      "  Average Training Loss: 0.000066\n",
      "  Average Eval Loss: 0.000049\n",
      "6/10\n"
     ]
    },
    {
     "name": "stderr",
     "output_type": "stream",
     "text": [
      "100%|██████████| 125/125 [00:00<00:00, 179.11it/s, loss=4.467615144676529e-05] \n"
     ]
    },
    {
     "name": "stdout",
     "output_type": "stream",
     "text": [
      "  Average Training Loss: 0.000060\n",
      "  Average Eval Loss: 0.000045\n",
      "7/10\n"
     ]
    },
    {
     "name": "stderr",
     "output_type": "stream",
     "text": [
      "100%|██████████| 125/125 [00:00<00:00, 189.73it/s, loss=3.5780725738732144e-05]\n"
     ]
    },
    {
     "name": "stdout",
     "output_type": "stream",
     "text": [
      "  Average Training Loss: 0.000055\n",
      "  Average Eval Loss: 0.000038\n",
      "8/10\n"
     ]
    },
    {
     "name": "stderr",
     "output_type": "stream",
     "text": [
      "100%|██████████| 125/125 [00:00<00:00, 195.61it/s, loss=5.0156013458035886e-05]\n"
     ]
    },
    {
     "name": "stdout",
     "output_type": "stream",
     "text": [
      "  Average Training Loss: 0.000050\n",
      "  Average Eval Loss: 0.000035\n",
      "9/10\n"
     ]
    },
    {
     "name": "stderr",
     "output_type": "stream",
     "text": [
      "100%|██████████| 125/125 [00:00<00:00, 192.07it/s, loss=7.224344881251454e-05] \n"
     ]
    },
    {
     "name": "stdout",
     "output_type": "stream",
     "text": [
      "  Average Training Loss: 0.000046\n",
      "  Average Eval Loss: 0.000031\n",
      "10/10\n"
     ]
    },
    {
     "name": "stderr",
     "output_type": "stream",
     "text": [
      "100%|██████████| 125/125 [00:00<00:00, 180.96it/s, loss=4.4242493459023535e-05]\n"
     ]
    },
    {
     "name": "stdout",
     "output_type": "stream",
     "text": [
      "  Average Training Loss: 0.000042\n",
      "  Average Eval Loss: 0.000027\n"
     ]
    }
   ],
   "source": [
    "loss = run_epochs(\n",
    "    10, mlp_model, mse_loss,\n",
    "    optimizer, train_loader, test_loader,\n",
    "    torch.cuda.is_available()\n",
    ")\n",
    "\n",
    "global_loss['train'].extend(loss['train'])\n",
    "global_loss['eval'].extend(loss['eval'])"
   ]
  },
  {
   "cell_type": "code",
   "execution_count": 36,
   "id": "36bc7688",
   "metadata": {},
   "outputs": [
    {
     "data": {
      "image/png": "[encoded data removed]",
      "text/plain": [
       "<Figure size 640x480 with 1 Axes>"
      ]
     },
     "metadata": {},
     "output_type": "display_data"
    }
   ],
   "source": [
    "plt.plot(global_loss['train'], label='Train Loss')\n",
    "plt.plot(global_loss['eval'], label='Eval Loss')\n",
    "plt.xlabel('Epoch')\n",
    "plt.ylabel('MSE Loss')\n",
    "plt.legend();"
   ]
  },
  {
   "cell_type": "code",
   "execution_count": null,
   "id": "2ebba34f",
   "metadata": {},
   "outputs": [],
   "source": [
    "checkpoint = {\n",
    "    'model': mlp_model.state_dict(),\n",
    "    'optimizer': optimizer.state_dict(),\n",
    "    'loss': global_loss\n",
    "}\n",
    "\n",
    "torch.save(checkpoint, '../output/mlp_wave.tar')"
   ]
  },
  {
   "cell_type": "markdown",
   "id": "f149bd76",
   "metadata": {},
   "source": [
    "# The Recurrent Network"
   ]
  },
  {
   "cell_type": "code",
   "execution_count": 18,
   "id": "3b36ba38",
   "metadata": {},
   "outputs": [],
   "source": [
    "model = RNN(1, 5)"
   ]
  }
 ],
 "metadata": {
  "kernelspec": {
   "display_name": ".DL",
   "language": "python",
   "name": "python3"
  },
  "language_info": {
   "codemirror_mode": {
    "name": "ipython",
    "version": 3
   },
   "file_extension": ".py",
   "mimetype": "text/x-python",
   "name": "python",
   "nbconvert_exporter": "python",
   "pygments_lexer": "ipython3",
   "version": "3.13.2"
  }
 },
 "nbformat": 4,
 "nbformat_minor": 5
}
