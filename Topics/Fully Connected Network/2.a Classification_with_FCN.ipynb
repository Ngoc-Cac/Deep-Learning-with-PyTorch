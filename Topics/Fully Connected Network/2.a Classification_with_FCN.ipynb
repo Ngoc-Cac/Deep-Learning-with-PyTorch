{
 "cells": [
  {
   "cell_type": "markdown",
   "metadata": {},
   "source": [
    "Last section demonstrated how a neural network can fit into data by applying a simple neural network into a regression problem with two independent variables and one dependent variable.\\\n",
    "Now, we will attempt to train a FCN in a classification task. More specfically, we start with a binary classification task on an image dataset of handwritten digits. Here, we concentrate on classifying whether an image is the number 1 or not. Note that this is for demonstrative purporses only and the choice of differentiating between the number 1 and other numbers is purely to preferences."
   ]
  },
  {
   "cell_type": "code",
   "execution_count": 13,
   "metadata": {},
   "outputs": [
    {
     "name": "stdout",
     "output_type": "stream",
     "text": [
      "gpu_available=True\n"
     ]
    }
   ],
   "source": [
    "import torch\n",
    "from torch import nn\n",
    "\n",
    "from torch.utils.data import random_split, DataLoader, WeightedRandomSampler\n",
    "\n",
    "from torchvision.datasets import MNIST\n",
    "from torchvision.transforms import ToTensor, Grayscale\n",
    "\n",
    "gpu_available = torch.cuda.is_available()\n",
    "print(f'{gpu_available=}')"
   ]
  },
  {
   "cell_type": "code",
   "execution_count": null,
   "metadata": {},
   "outputs": [],
   "source": [
    "import sys\n",
    "sys.path.append('../..')\n",
    "\n",
    "import math\n",
    "import matplotlib.pyplot as plt\n",
    "\n",
    "from CustomDL.loops.classification import train_loop, test_loop"
   ]
  },
  {
   "cell_type": "markdown",
   "metadata": {},
   "source": [
    "# Load MNIST dataset"
   ]
  },
  {
   "cell_type": "code",
   "execution_count": 3,
   "metadata": {},
   "outputs": [
    {
     "name": "stdout",
     "output_type": "stream",
     "text": [
      "torch.Size([60000, 28, 28])\n"
     ]
    }
   ],
   "source": [
    "digits_dataset = MNIST(\n",
    "    root='../../data', # the folder where data eixsts/is stored,\n",
    "    download=True,\n",
    "    transform=ToTensor() # The image are PIL format, this transform to Tensor objects\n",
    ")\n",
    "print(digits_dataset.data.shape)\n",
    "\n",
    "train_data, test_data = random_split(digits_dataset, [.8, .2])"
   ]
  },
  {
   "cell_type": "code",
   "execution_count": 4,
   "metadata": {},
   "outputs": [
    {
     "data": {
      "image/png": "[encoded data removed]",
      "text/plain": [
       "<Figure size 1000x600 with 10 Axes>"
      ]
     },
     "metadata": {},
     "output_type": "display_data"
    }
   ],
   "source": [
    "fig = plt.figure(figsize=(10, 6))\n",
    "fig.tight_layout()\n",
    "fig.suptitle('Illsutrative Images for Each Digit')\n",
    "\n",
    "labels = digits_dataset.targets\n",
    "num_lab = torch.tensor(labels.unique().shape[0])\n",
    "rows = int(torch.sqrt(num_lab))\n",
    "cols = int(torch.ceil(num_lab / rows))\n",
    "for tens_number in labels.unique():\n",
    "  number = tens_number.item()\n",
    "  idx = torch.argmax((labels == number).int())\n",
    "  img = digits_dataset[idx][0].squeeze()\n",
    "\n",
    "  ax = fig.add_subplot(rows, cols, number + 1)\n",
    "  ax.axis('off')\n",
    "  ax.imshow(img, cmap='gray')"
   ]
  },
  {
   "cell_type": "markdown",
   "metadata": {},
   "source": [
    "Before defining a model and training it, we should transform the labels for the classfication tasks.\\\n",
    "Here, we just change all numbers not equal to 1 to the label 0."
   ]
  },
  {
   "cell_type": "code",
   "execution_count": 5,
   "metadata": {},
   "outputs": [
    {
     "data": {
      "text/plain": [
       "tensor([0, 0, 0,  ..., 0, 0, 0])"
      ]
     },
     "execution_count": 5,
     "metadata": {},
     "output_type": "execute_result"
    }
   ],
   "source": [
    "mask = digits_dataset.targets != 1\n",
    "digits_dataset.targets[mask] = 0\n",
    "digits_dataset.targets"
   ]
  },
  {
   "cell_type": "code",
   "execution_count": 6,
   "metadata": {},
   "outputs": [
    {
     "data": {
      "text/plain": [
       "torch.Size([48000])"
      ]
     },
     "execution_count": 6,
     "metadata": {},
     "output_type": "execute_result"
    }
   ],
   "source": [
    "digits_dataset.targets[train_data.indices].shape"
   ]
  },
  {
   "cell_type": "code",
   "execution_count": 7,
   "metadata": {},
   "outputs": [
    {
     "data": {
      "text/plain": [
       "(1.1269986616890892, 8.874098724348304)"
      ]
     },
     "execution_count": 7,
     "metadata": {},
     "output_type": "execute_result"
    }
   ],
   "source": [
    "train_targets = digits_dataset.targets[train_data.indices]\n",
    "mask_0 = train_targets == 0\n",
    "\n",
    "weights_0 = train_targets[mask_0].shape[0] / train_targets.shape[0]\n",
    "weights_1 = 1 - weights_0\n",
    "weights_0 = 1 / weights_0\n",
    "weights_1 = 1 / weights_1\n",
    "\n",
    "weights_0, weights_1"
   ]
  },
  {
   "cell_type": "code",
   "execution_count": 8,
   "metadata": {},
   "outputs": [
    {
     "data": {
      "text/plain": [
       "tensor([8.8741, 1.1270, 1.1270,  ..., 1.1270, 1.1270, 8.8741])"
      ]
     },
     "execution_count": 8,
     "metadata": {},
     "output_type": "execute_result"
    }
   ],
   "source": [
    "weights_by_sample = torch.zeros(train_targets.shape)\n",
    "weights_by_sample[mask_0] = weights_0\n",
    "weights_by_sample[~mask_0] = weights_1\n",
    "weights = weights_by_sample#.tolist()\n",
    "weights"
   ]
  },
  {
   "cell_type": "markdown",
   "metadata": {},
   "source": [
    "# Defining a Model"
   ]
  },
  {
   "cell_type": "code",
   "execution_count": null,
   "metadata": {},
   "outputs": [],
   "source": [
    "class OneClassfier(nn.Module):\n",
    "    def __init__(self,\n",
    "        hidden_dims: int,\n",
    "        activation_fn: nn.Module\n",
    "    ):\n",
    "        super().__init__()\n",
    "        self.layers = nn.Sequential(\n",
    "            # images in the MNIST dataset are (1, 28, 28)\n",
    "            # to pass the images as vectors to do linear transformations,\n",
    "            # we need to flatten it.\n",
    "            # However, the inputs to the neural netwrk is of shape (batch_size, 1, 28, 28)\n",
    "            # So we only want to flatten the last 3 dimensions to get (batch_size, 1 * 28 * 28)\n",
    "            nn.Flatten(),\n",
    "            nn.Linear(28 * 28, hidden_dims),\n",
    "            activation_fn,\n",
    "            nn.Linear(hidden_dims, hidden_dims),\n",
    "            activation_fn,\n",
    "            nn.Linear(hidden_dims, hidden_dims),\n",
    "            activation_fn,\n",
    "            nn.Linear(hidden_dims, 2)\n",
    "        )\n",
    "\n",
    "    def forward(self, image):\n",
    "        return self.layers(image)"
   ]
  },
  {
   "cell_type": "markdown",
   "metadata": {},
   "source": [
    "# Training and Evaluation"
   ]
  },
  {
   "cell_type": "code",
   "execution_count": null,
   "metadata": {},
   "outputs": [],
   "source": [
    "def run_epochs(\n",
    "    epochs: int,\n",
    "    model: nn.Module,\n",
    "    train_loader: tuple[DataLoader, DataLoader],\n",
    "    test_loader: tuple[DataLoader, DataLoader],\n",
    "    loss_fn: nn.Module,\n",
    "    optimizer: nn.Module\n",
    "):\n",
    "    num_dig = int(math.log10(epochs)) + 1\n",
    "\n",
    "    for epoch in range(epochs):\n",
    "        print(f\"Epoch {epoch + 1:0>{num_dig}}/{epochs}\")\n",
    "        loss = train_loop(model, train_loader, loss_fn, optimizer,\n",
    "                          use_gpu=gpu_available)\n",
    "        print(f\"  Average Training Loss: {sum(loss) / len(loss):.6f}\")\n",
    "\n",
    "        loss, acc = test_loop(model, test_loader, loss_fn, True,\n",
    "                               use_gpu=gpu_available)\n",
    "        print(f\"  Average Eval Loss: {loss:.6f} | {acc * 100:.4f}%\")"
   ]
  },
  {
   "cell_type": "code",
   "execution_count": 10,
   "metadata": {},
   "outputs": [],
   "source": [
    "batch_size = 64\n",
    "learning_rate = 0.001\n",
    "\n",
    "weighted_sampler = WeightedRandomSampler(weights, len(weights))\n",
    "train_loader = DataLoader(train_data, batch_size, sampler=weighted_sampler)\n",
    "test_loader = DataLoader(test_data, batch_size, shuffle=True)\n",
    "\n",
    "model = OneClassfier(50, nn.Sigmoid())\n",
    "if gpu_available:\n",
    "    model.cuda()\n",
    "\n",
    "sml = nn.CrossEntropyLoss()\n",
    "optimizer = torch.optim.SGD(model.parameters(), learning_rate)"
   ]
  },
  {
   "cell_type": "code",
   "execution_count": 19,
   "metadata": {},
   "outputs": [
    {
     "name": "stdout",
     "output_type": "stream",
     "text": [
      "Epoch  1/10 || Average Loss: 0.704341 | 11.7500%\n",
      "Epoch  2/10 || Average Loss: 0.694994 | 11.7500%\n",
      "Epoch  3/10 || Average Loss: 0.691283 | 88.2500%\n",
      "Epoch  4/10 || Average Loss: 0.692976 | 71.4667%\n",
      "Epoch  5/10 || Average Loss: 0.705679 | 11.7500%\n",
      "Epoch  6/10 || Average Loss: 0.696004 | 11.7500%\n",
      "Epoch  7/10 || Average Loss: 0.693874 | 11.8000%\n",
      "Epoch  8/10 || Average Loss: 0.689642 | 88.2500%\n",
      "Epoch  9/10 || Average Loss: 0.688783 | 88.2500%\n",
      "Epoch 10/10 || Average Loss: 0.688877 | 88.2500%\n"
     ]
    }
   ],
   "source": [
    "epochs = 10\n",
    "\n",
    "run_epochs(\n",
    "    epochs, model,\n",
    "    train_loader, test_loader,\n",
    "    sml, optimizer\n",
    ")"
   ]
  },
  {
   "cell_type": "code",
   "execution_count": 21,
   "metadata": {},
   "outputs": [],
   "source": [
    "torch.save(\n",
    "    {'epochs': epochs, 'hidden_dims': 50, 'model': model.state_dict(), 'optimizer': optimizer.state_dict()},\n",
    "    './output/one_class_1.pth'\n",
    ")"
   ]
  },
  {
   "cell_type": "markdown",
   "metadata": {},
   "source": [
    "# Testing on new images"
   ]
  },
  {
   "cell_type": "code",
   "execution_count": 12,
   "metadata": {},
   "outputs": [
    {
     "data": {
      "text/plain": [
       "OneClassfier(\n",
       "  (layers): Sequential(\n",
       "    (0): Flatten(start_dim=1, end_dim=-1)\n",
       "    (1): Linear(in_features=784, out_features=50, bias=True)\n",
       "    (2): Sigmoid()\n",
       "    (3): Linear(in_features=50, out_features=50, bias=True)\n",
       "    (4): Sigmoid()\n",
       "    (5): Linear(in_features=50, out_features=50, bias=True)\n",
       "    (6): Sigmoid()\n",
       "    (7): Linear(in_features=50, out_features=2, bias=True)\n",
       "  )\n",
       ")"
      ]
     },
     "execution_count": 12,
     "metadata": {},
     "output_type": "execute_result"
    }
   ],
   "source": [
    "model.cpu()\n",
    "model.eval()"
   ]
  },
  {
   "cell_type": "code",
   "execution_count": 15,
   "metadata": {},
   "outputs": [],
   "source": [
    "import torchvision"
   ]
  },
  {
   "cell_type": "code",
   "execution_count": 27,
   "metadata": {},
   "outputs": [
    {
     "data": {
      "text/plain": [
       "<matplotlib.image.AxesImage at 0x129988d2350>"
      ]
     },
     "execution_count": 27,
     "metadata": {},
     "output_type": "execute_result"
    },
    {
     "data": {
      "image/png": "[encoded data removed]",
      "text/plain": [
       "<Figure size 640x480 with 1 Axes>"
      ]
     },
     "metadata": {},
     "output_type": "display_data"
    }
   ],
   "source": [
    "sample_img = torchvision.io.read_image('./data/num1.1.png')\n",
    "sample_img = Grayscale(1)(sample_img[:3])\n",
    "sample_img = (255 - sample_img) / 255\n",
    "plt.imshow(sample_img[0], cmap='gray_r')"
   ]
  },
  {
   "cell_type": "code",
   "execution_count": 28,
   "metadata": {},
   "outputs": [
    {
     "name": "stdout",
     "output_type": "stream",
     "text": [
      "Output values:\n",
      "tensor([[0.1470, 0.1360]])\n",
      "Prediction: 0\n"
     ]
    }
   ],
   "source": [
    "pred_vals = model(sample_img.unsqueeze(0))\n",
    "prediction = pred_vals.argmax().item()\n",
    "\n",
    "print(f\"\"\"Output values:\n",
    "{pred_vals.detach()}\n",
    "Prediction: {prediction}\"\"\")"
   ]
  },
  {
   "cell_type": "markdown",
   "metadata": {},
   "source": [
    "As you can see, pretty terrible predictions. This is also shown in our test evaluations, with quite low accuracy.\\\n",
    "During training, sometimes the accuracy jumps, which can comes from the fact that the test data have not been balanced.\\\n",
    "To improve this, one can use a different accuracy metrics to better capture the performance. Furthermore, the network here used a Sigmoid activation function which is not necessarily the best kind for the hidden layers due to its properties.\n",
    "\n",
    "Anyway, this is just a demonstrate how one can use the FCN architecture in a binary classification problem. The next section moves on to using the FCN for the MNIST dataset as a whole."
   ]
  }
 ],
 "metadata": {
  "kernelspec": {
   "display_name": ".DL",
   "language": "python",
   "name": "python3"
  },
  "language_info": {
   "codemirror_mode": {
    "name": "ipython",
    "version": 3
   },
   "file_extension": ".py",
   "mimetype": "text/x-python",
   "name": "python",
   "nbconvert_exporter": "python",
   "pygments_lexer": "ipython3",
   "version": "3.13.2"
  }
 },
 "nbformat": 4,
 "nbformat_minor": 2
}
