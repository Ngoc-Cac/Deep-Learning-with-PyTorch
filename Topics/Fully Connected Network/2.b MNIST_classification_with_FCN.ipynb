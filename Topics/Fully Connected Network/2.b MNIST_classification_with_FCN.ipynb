{
 "cells": [
  {
   "cell_type": "markdown",
   "metadata": {},
   "source": [
    "This section now builds and trains a FCN on the MNIST dataset. Since there are 10 handwritten digit labels, this becomes a multi-class classification task. In terms of the architecture, this is as simple as changing the output dimension.\\\n",
    "However, the evaluation metrics involves a bit more consideration. In the previous section, we used Cross Entropy Loss. This is still applicable in the multi-class case. However, other commonly used metrics for binary classification like Logistic Loss will not be applicable, or may give wrong interpretations."
   ]
  },
  {
   "cell_type": "code",
   "execution_count": 1,
   "metadata": {},
   "outputs": [
    {
     "name": "stdout",
     "output_type": "stream",
     "text": [
      "gpu_available=True\n"
     ]
    }
   ],
   "source": [
    "import torch\n",
    "from torch import nn\n",
    "\n",
    "from torch.utils.data import random_split, DataLoader\n",
    "\n",
    "from torchvision.datasets import MNIST\n",
    "from torchvision.transforms import ToTensor, Grayscale\n",
    "\n",
    "gpu_available = torch.cuda.is_available()\n",
    "print(f'{gpu_available=}')"
   ]
  },
  {
   "cell_type": "code",
   "execution_count": 2,
   "metadata": {},
   "outputs": [],
   "source": [
    "import sys\n",
    "sys.path.append('../..')\n",
    "\n",
    "import math\n",
    "import matplotlib.pyplot as plt\n",
    "\n",
    "from CustomDL.utils import train_model, test_model"
   ]
  },
  {
   "cell_type": "markdown",
   "metadata": {},
   "source": [
    "# Load MNIST dataset"
   ]
  },
  {
   "cell_type": "code",
   "execution_count": 3,
   "metadata": {},
   "outputs": [
    {
     "name": "stdout",
     "output_type": "stream",
     "text": [
      "torch.Size([60000, 28, 28])\n"
     ]
    }
   ],
   "source": [
    "digits_dataset = MNIST(\n",
    "    root='../../data', # the folder where data eixsts/is stored,\n",
    "    download=True,\n",
    "    transform=ToTensor() # The image are PIL format, this transform to Tensor objects\n",
    ")\n",
    "print(digits_dataset.data.shape)\n",
    "\n",
    "train_data, test_data = random_split(digits_dataset, [.8, .2])"
   ]
  },
  {
   "cell_type": "markdown",
   "metadata": {},
   "source": [
    "# Defining a Model"
   ]
  },
  {
   "cell_type": "code",
   "execution_count": 4,
   "metadata": {},
   "outputs": [],
   "source": [
    "class OneClassfier(nn.Module):\n",
    "    def __init__(self,\n",
    "        hidden_dims: int,\n",
    "        activation_fn: nn.Module\n",
    "    ):\n",
    "        super().__init__()\n",
    "        self.layers = nn.Sequential(\n",
    "            nn.Flatten(),\n",
    "            nn.Linear(28 * 28, hidden_dims),\n",
    "            activation_fn,\n",
    "            nn.Linear(hidden_dims, hidden_dims),\n",
    "            activation_fn,\n",
    "            nn.Linear(hidden_dims, hidden_dims),\n",
    "            activation_fn,\n",
    "            nn.Linear(hidden_dims, 10)\n",
    "        )\n",
    "\n",
    "    def forward(self, image):\n",
    "        return self.layers(image)"
   ]
  },
  {
   "cell_type": "code",
   "execution_count": 13,
   "metadata": {},
   "outputs": [],
   "source": [
    "model = OneClassfier(100, nn.ReLU())\n",
    "if gpu_available:\n",
    "    model.cuda()"
   ]
  },
  {
   "cell_type": "markdown",
   "metadata": {},
   "source": [
    "# Training and Evaluation"
   ]
  },
  {
   "cell_type": "code",
   "execution_count": 7,
   "metadata": {},
   "outputs": [],
   "source": [
    "def run_epochs(\n",
    "    epochs: int,\n",
    "    model: nn.Module,\n",
    "    train_loader: tuple[DataLoader, DataLoader],\n",
    "    test_loader: tuple[DataLoader, DataLoader],\n",
    "    loss_fn: nn.Module,\n",
    "    optimizer: nn.Module\n",
    "):\n",
    "    num_dig = int(math.log10(epochs)) + 1\n",
    "    update_rate = 1 if epochs <= 20 else 10\n",
    "\n",
    "    for epoch in range(epochs):\n",
    "        if not epoch % update_rate:\n",
    "            print(f\"Epoch {epoch + 1:>{num_dig}}/{epochs}\", end=' || ')\n",
    "        train_model(model, train_loader, loss_fn, optimizer,\n",
    "                    use_gpu=gpu_available)\n",
    "        loss, acc = test_model(model, test_loader, loss_fn, True,\n",
    "                               use_gpu=gpu_available)\n",
    "        if not epoch % update_rate:\n",
    "            print(f\"Average Loss: {loss:.6f} | {acc * 100:.4f}%\")"
   ]
  },
  {
   "cell_type": "code",
   "execution_count": 14,
   "metadata": {},
   "outputs": [],
   "source": [
    "batch_size = 64\n",
    "learning_rate = 0.001\n",
    "\n",
    "train_loader = DataLoader(train_data, batch_size, shuffle=True)\n",
    "test_loader = DataLoader(test_data, batch_size, shuffle=True)\n",
    "\n",
    "sml = nn.CrossEntropyLoss()\n",
    "optimizer = torch.optim.SGD(model.parameters(), learning_rate)"
   ]
  },
  {
   "cell_type": "code",
   "execution_count": 15,
   "metadata": {},
   "outputs": [
    {
     "name": "stdout",
     "output_type": "stream",
     "text": [
      "Epoch  1/20 || Average Loss: 2.302891 | 8.9833%\n",
      "Epoch  2/20 || Average Loss: 2.297696 | 8.9833%\n",
      "Epoch  3/20 || Average Loss: 2.292203 | 8.9833%\n",
      "Epoch  4/20 || Average Loss: 2.285771 | 9.0667%\n",
      "Epoch  5/20 || Average Loss: 2.277879 | 15.4583%\n",
      "Epoch  6/20 || Average Loss: 2.267418 | 22.1917%\n",
      "Epoch  7/20 || Average Loss: 2.253236 | 27.5750%\n",
      "Epoch  8/20 || Average Loss: 2.233504 | 30.6083%\n",
      "Epoch  9/20 || Average Loss: 2.204786 | 33.8000%\n",
      "Epoch 10/20 || Average Loss: 2.161072 | 36.9917%\n",
      "Epoch 11/20 || Average Loss: 2.092691 | 39.9083%\n",
      "Epoch 12/20 || Average Loss: 1.987840 | 43.8667%\n",
      "Epoch 13/20 || Average Loss: 1.837259 | 49.3833%\n",
      "Epoch 14/20 || Average Loss: 1.640134 | 57.5417%\n",
      "Epoch 15/20 || Average Loss: 1.414235 | 65.2250%\n",
      "Epoch 16/20 || Average Loss: 1.204940 | 69.9417%\n",
      "Epoch 17/20 || Average Loss: 1.041373 | 72.5250%\n",
      "Epoch 18/20 || Average Loss: 0.920221 | 74.6333%\n",
      "Epoch 19/20 || Average Loss: 0.830743 | 76.5083%\n",
      "Epoch 20/20 || Average Loss: 0.764431 | 78.0417%\n"
     ]
    }
   ],
   "source": [
    "epochs = 20\n",
    "\n",
    "run_epochs(\n",
    "    epochs, model,\n",
    "    train_loader, test_loader,\n",
    "    sml, optimizer\n",
    ")"
   ]
  },
  {
   "cell_type": "code",
   "execution_count": 16,
   "metadata": {},
   "outputs": [],
   "source": [
    "torch.save(\n",
    "    {'epochs': epochs, 'hidden_dims': 100, 'model': model.state_dict(), 'optimizer': optimizer.state_dict()},\n",
    "    './output/digits_classifier_1.pth'\n",
    ")"
   ]
  },
  {
   "cell_type": "markdown",
   "metadata": {},
   "source": [
    "# Inference"
   ]
  },
  {
   "cell_type": "code",
   "execution_count": 17,
   "metadata": {},
   "outputs": [],
   "source": [
    "import torchvision"
   ]
  },
  {
   "cell_type": "code",
   "execution_count": 18,
   "metadata": {},
   "outputs": [
    {
     "data": {
      "text/plain": [
       "OneClassfier(\n",
       "  (layers): Sequential(\n",
       "    (0): Flatten(start_dim=1, end_dim=-1)\n",
       "    (1): Linear(in_features=784, out_features=100, bias=True)\n",
       "    (2): ReLU()\n",
       "    (3): Linear(in_features=100, out_features=100, bias=True)\n",
       "    (4): ReLU()\n",
       "    (5): Linear(in_features=100, out_features=100, bias=True)\n",
       "    (6): ReLU()\n",
       "    (7): Linear(in_features=100, out_features=10, bias=True)\n",
       "  )\n",
       ")"
      ]
     },
     "execution_count": 18,
     "metadata": {},
     "output_type": "execute_result"
    }
   ],
   "source": [
    "model.cpu()\n",
    "model.eval()"
   ]
  },
  {
   "cell_type": "code",
   "execution_count": 40,
   "metadata": {},
   "outputs": [
    {
     "data": {
      "text/plain": [
       "<matplotlib.image.AxesImage at 0x21d97c25310>"
      ]
     },
     "execution_count": 40,
     "metadata": {},
     "output_type": "execute_result"
    },
    {
     "data": {
      "image/png": "[encoded data removed]",
      "text/plain": [
       "<Figure size 640x480 with 1 Axes>"
      ]
     },
     "metadata": {},
     "output_type": "display_data"
    }
   ],
   "source": [
    "sample_img = torchvision.io.read_image('./data/num2.png')\n",
    "sample_img = Grayscale(1)(sample_img[:3])\n",
    "sample_img = (255 - sample_img) / 255\n",
    "plt.imshow(sample_img[0], cmap='gray_r')"
   ]
  },
  {
   "cell_type": "code",
   "execution_count": 41,
   "metadata": {},
   "outputs": [
    {
     "name": "stdout",
     "output_type": "stream",
     "text": [
      "Output values:\n",
      "    tensor([[ 1.5933, -5.7504, -0.3954,  0.4799,  1.0465,  2.3509,  0.1406,  1.0806,\n",
      "          1.5156,  1.2748]])\n",
      "Class 'Probabilities':\n",
      "    tensor([[1.5008e-01, 9.7051e-05, 2.0541e-02, 4.9288e-02, 8.6858e-02, 3.2014e-01,\n",
      "         3.5109e-02, 8.9877e-02, 1.3886e-01, 1.0914e-01]])\n",
      "Prediction: 5\n"
     ]
    }
   ],
   "source": [
    "pred_vals = model(sample_img.unsqueeze(0)).detach()\n",
    "pred_probs = nn.Softmax(1)(pred_vals)\n",
    "prediction = pred_vals.argmax().item()\n",
    "\n",
    "print(f\"\"\"Output values:\n",
    "    {pred_vals}\n",
    "Class 'Probabilities':\n",
    "    {pred_probs}\n",
    "Prediction: {prediction}\"\"\")"
   ]
  },
  {
   "cell_type": "markdown",
   "metadata": {},
   "source": [
    "Note:\n",
    "- Given that images of same class have fairly homogenous form, the model have no problem fitting into the data. This is as expected.\n",
    "- However, the model can only predict a images of fixed size 28x28. Thus, if we are required to do inference on images of different sizes, we will need to manually preprocess those images or maybe use a different architecture that can do this prepocessing automatically for us.\n",
    "- Furthermore, if we increase the image size, we need more weights and biases to optimize. We can think of these weights and biases as elements in the netwok that help differentiate between one number and another. If we have too many criteria to differentiate numbers, it will create unnecessary complexity and thus prone to overfitting.\n",
    "\n",
    "For the last point, we can avoid such an issue by finding a way to extract some of the more prominent features inside an image, and then pass those extracted features into the network. We also notice that different numebrs have subtle relationships between the neighbouring pixels. We can pick up these relationships by finding a suitable filter to apply over the image. This then leads to the idea of convolving the image with a fixed kernel that have the appropriate weights.\\\n",
    "When we integrate this convolution operation within the network, one obtains a Convolutional Neural Network. This architecture is explored further in the Convoluntional Network topic. "
   ]
  }
 ],
 "metadata": {
  "kernelspec": {
   "display_name": ".DL",
   "language": "python",
   "name": "python3"
  },
  "language_info": {
   "codemirror_mode": {
    "name": "ipython",
    "version": 3
   },
   "file_extension": ".py",
   "mimetype": "text/x-python",
   "name": "python",
   "nbconvert_exporter": "python",
   "pygments_lexer": "ipython3",
   "version": "3.13.2"
  }
 },
 "nbformat": 4,
 "nbformat_minor": 2
}
